{
 "cells": [
  {
   "cell_type": "code",
   "execution_count": 1,
   "metadata": {
    "execution": {
     "iopub.execute_input": "2021-01-28T19:39:13.007665Z",
     "iopub.status.busy": "2021-01-28T19:39:12.994465Z",
     "iopub.status.idle": "2021-01-28T19:39:24.617764Z",
     "shell.execute_reply": "2021-01-28T19:39:24.616737Z"
    },
    "papermill": {
     "duration": 11.644981,
     "end_time": "2021-01-28T19:39:24.618011",
     "exception": false,
     "start_time": "2021-01-28T19:39:12.973030",
     "status": "completed"
    },
    "tags": []
   },
   "outputs": [
    {
     "name": "stdout",
     "output_type": "stream",
     "text": [
      "Collecting imutils\r\n",
      "  Downloading imutils-0.5.4.tar.gz (17 kB)\r\n",
      "Building wheels for collected packages: imutils\r\n",
      "  Building wheel for imutils (setup.py) ... \u001b[?25l-\b \b\\\b \bdone\r\n",
      "\u001b[?25h  Created wheel for imutils: filename=imutils-0.5.4-py3-none-any.whl size=25860 sha256=b2899ea402dc375067e30c84ed329f3e0e5a36c13c84d8bdcef54c23a7be58e4\r\n",
      "  Stored in directory: /root/.cache/pip/wheels/86/d7/0a/4923351ed1cec5d5e24c1eaf8905567b02a0343b24aa873df2\r\n",
      "Successfully built imutils\r\n",
      "Installing collected packages: imutils\r\n",
      "Successfully installed imutils-0.5.4\r\n"
     ]
    }
   ],
   "source": [
    "!pip3 install imutils\n",
    "# "
   ]
  },
  {
   "cell_type": "code",
   "execution_count": 2,
   "metadata": {
    "execution": {
     "iopub.execute_input": "2021-01-28T19:39:24.660709Z",
     "iopub.status.busy": "2021-01-28T19:39:24.659967Z",
     "iopub.status.idle": "2021-01-28T19:39:26.191374Z",
     "shell.execute_reply": "2021-01-28T19:39:26.192184Z"
    },
    "papermill": {
     "duration": 1.556318,
     "end_time": "2021-01-28T19:39:26.192392",
     "exception": false,
     "start_time": "2021-01-28T19:39:24.636074",
     "status": "completed"
    },
    "tags": []
   },
   "outputs": [],
   "source": [
    "import os\n",
    "import cv2\n",
    "from tqdm import tqdm\n",
    "from scipy.spatial import distance as dist\n",
    "import imutils\n",
    "import numpy as np\n",
    "from sklearn.utils import shuffle\n",
    "from sklearn import decomposition\n",
    "from sklearn.model_selection import train_test_split\n",
    "from sklearn.neural_network import MLPClassifier\n",
    "import matplotlib.pyplot as plt\n",
    "from sklearn.preprocessing import MinMaxScaler"
   ]
  },
  {
   "cell_type": "markdown",
   "metadata": {
    "papermill": {
     "duration": 0.017227,
     "end_time": "2021-01-28T19:39:26.227419",
     "exception": false,
     "start_time": "2021-01-28T19:39:26.210192",
     "status": "completed"
    },
    "tags": []
   },
   "source": [
    "## Loading Data, edge detection  and thresholding"
   ]
  },
  {
   "cell_type": "code",
   "execution_count": 3,
   "metadata": {
    "execution": {
     "iopub.execute_input": "2021-01-28T19:39:26.269368Z",
     "iopub.status.busy": "2021-01-28T19:39:26.268647Z",
     "iopub.status.idle": "2021-01-28T19:39:26.271781Z",
     "shell.execute_reply": "2021-01-28T19:39:26.271123Z"
    },
    "papermill": {
     "duration": 0.027075,
     "end_time": "2021-01-28T19:39:26.271922",
     "exception": false,
     "start_time": "2021-01-28T19:39:26.244847",
     "status": "completed"
    },
    "tags": []
   },
   "outputs": [],
   "source": [
    "def findEdges(image):\n",
    "    # gray = cv2.cvtColor(image, cv2.COLOR_BGR2GRAY)\n",
    "    gray = cv2.GaussianBlur(image, (1, 1), 0)\n",
    "    edged = cv2.Canny(gray, 100, 400)\n",
    "    edged = cv2.dilate(edged, None, iterations=1)\n",
    "    edged = cv2.erode(edged, None, iterations=1)\n",
    "    return edged\n"
   ]
  },
  {
   "cell_type": "code",
   "execution_count": 4,
   "metadata": {
    "execution": {
     "iopub.execute_input": "2021-01-28T19:39:26.314778Z",
     "iopub.status.busy": "2021-01-28T19:39:26.314076Z",
     "iopub.status.idle": "2021-01-28T19:39:26.317566Z",
     "shell.execute_reply": "2021-01-28T19:39:26.317029Z"
    },
    "papermill": {
     "duration": 0.027044,
     "end_time": "2021-01-28T19:39:26.317720",
     "exception": false,
     "start_time": "2021-01-28T19:39:26.290676",
     "status": "completed"
    },
    "tags": []
   },
   "outputs": [],
   "source": [
    "def getImgContours(edged):\n",
    "    # find contours in the edge map\n",
    "    contours = cv2.findContours(edged.copy(), cv2.RETR_EXTERNAL, cv2.CHAIN_APPROX_SIMPLE)\n",
    "    contours = imutils.grab_contours(contours)\n",
    "    contours = sorted(contours, key=lambda x: cv2.contourArea(x))\n",
    "    return contours\n",
    "\n"
   ]
  },
  {
   "cell_type": "code",
   "execution_count": 5,
   "metadata": {
    "execution": {
     "iopub.execute_input": "2021-01-28T19:39:26.360813Z",
     "iopub.status.busy": "2021-01-28T19:39:26.360129Z",
     "iopub.status.idle": "2021-01-28T19:39:26.363276Z",
     "shell.execute_reply": "2021-01-28T19:39:26.362733Z"
    },
    "papermill": {
     "duration": 0.027915,
     "end_time": "2021-01-28T19:39:26.363415",
     "exception": false,
     "start_time": "2021-01-28T19:39:26.335500",
     "status": "completed"
    },
    "tags": []
   },
   "outputs": [],
   "source": [
    "def getBoxes(contours, orig):\n",
    "    boxes = []\n",
    "    centers = []\n",
    "    for contour in contours:\n",
    "        box = cv2.minAreaRect(contour)\n",
    "        box = cv2.cv.BoxPoints(box) if imutils.is_cv2() else cv2.boxPoints(box)\n",
    "        box = np.array(box, dtype=\"int\")\n",
    "        (tl, tr, br, bl) = box\n",
    "        if (dist.euclidean(tl, bl)) > 0 and (dist.euclidean(tl, tr)) > 0:\n",
    "            boxes.append(box)\n",
    "    return boxes\n"
   ]
  },
  {
   "cell_type": "code",
   "execution_count": 6,
   "metadata": {
    "execution": {
     "iopub.execute_input": "2021-01-28T19:39:26.404965Z",
     "iopub.status.busy": "2021-01-28T19:39:26.404138Z",
     "iopub.status.idle": "2021-01-28T19:39:26.406943Z",
     "shell.execute_reply": "2021-01-28T19:39:26.407458Z"
    },
    "papermill": {
     "duration": 0.026307,
     "end_time": "2021-01-28T19:39:26.407654",
     "exception": false,
     "start_time": "2021-01-28T19:39:26.381347",
     "status": "completed"
    },
    "pycharm": {
     "name": "#%%\n"
    },
    "tags": []
   },
   "outputs": [],
   "source": [
    "class_names = ['EOSINOPHIL', 'LYMPHOCYTE', 'MONOCYTE', 'NEUTROPHIL']\n",
    "nb_classes = len(class_names)\n",
    "image_size = (80,80)"
   ]
  },
  {
   "cell_type": "code",
   "execution_count": 7,
   "metadata": {
    "execution": {
     "iopub.execute_input": "2021-01-28T19:39:26.455920Z",
     "iopub.status.busy": "2021-01-28T19:39:26.454125Z",
     "iopub.status.idle": "2021-01-28T19:39:26.469442Z",
     "shell.execute_reply": "2021-01-28T19:39:26.468707Z"
    },
    "papermill": {
     "duration": 0.044009,
     "end_time": "2021-01-28T19:39:26.469607",
     "exception": false,
     "start_time": "2021-01-28T19:39:26.425598",
     "status": "completed"
    },
    "pycharm": {
     "name": "#%%\n"
    },
    "tags": []
   },
   "outputs": [],
   "source": [
    "\n",
    "def load_data():\n",
    "    \n",
    "    datasets = ['/kaggle/input/blood-cells/dataset2-master/dataset2-master/images/TRAIN',\n",
    "                '/kaggle/input/blood-cells/dataset2-master/dataset2-master/images/TEST' ]    \n",
    "    images = []\n",
    "    labels = []\n",
    "\n",
    "    # iterate through training and test sets\n",
    "    count=0\n",
    "    for dataset in datasets:\n",
    "\n",
    "        # iterate through folders in each dataset\n",
    "        \n",
    "        for folder in os.listdir(dataset):\n",
    "\n",
    "            if folder in ['EOSINOPHIL']: label = 1#[1, 0, 0, 0]\n",
    "            elif folder in ['LYMPHOCYTE']: label = 2#[0, 1, 0, 0]\n",
    "            elif folder in ['MONOCYTE']: label = 3#[0, 0, 1, 0]\n",
    "            elif folder in ['NEUTROPHIL']: label = 4#[0, 0, 0, 1]\n",
    "\n",
    "            # iterate through each image in folder\n",
    "           \n",
    "            for file in tqdm(os.listdir(os.path.join(dataset, folder))):\n",
    "\n",
    "                # get pathname of each image\n",
    "                img_path = os.path.join(os.path.join(dataset, folder), file)\n",
    "\n",
    "                # Open and resize the| img\n",
    "                image = cv2.imread(img_path)\n",
    "                image = cv2.cvtColor(image, cv2.COLOR_BGR2RGB)\n",
    "                image = cv2.copyMakeBorder(image,10,10,10,10,cv2.BORDER_CONSTANT,value=[198, 203, 208])\n",
    "                image1 = cv2.inRange(image,(80, 80, 180),(180, 170, 245))\n",
    "                kernel = np.ones((3, 3), np.uint8)\n",
    "                kernel1 = np.ones((5, 5), np.uint8)\n",
    "                img_erosion = cv2.erode(image1, kernel, iterations=2)\n",
    "                image1 = cv2.dilate(img_erosion, kernel1, iterations=4)\n",
    "                edgedImage = findEdges(image1)\n",
    "                edgedContours = getImgContours(edgedImage)\n",
    "                edgedBoxes =  getBoxes(edgedContours, image.copy())\n",
    "                if len(edgedBoxes)==0:\n",
    "                    count +=1\n",
    "                    continue\n",
    "                last = edgedBoxes[-1]\n",
    "                max_x = int(max(last[:,0]))\n",
    "                min_x = int( min(last[:,0]))\n",
    "                max_y = int(max(last[:,1]))\n",
    "                min_y = int(min(last[:,1]))\n",
    "                mask = np.zeros_like(image)\n",
    "                cv2.drawContours(mask, edgedContours, len(edgedContours)-1, (255,255,255), -1) \n",
    "                image[mask==0] = 0\n",
    "                image = image[min_y:max_y, min_x:max_x]\n",
    "\n",
    "                if (np.size(image)==0):\n",
    "                    count +=1\n",
    "                    continue\n",
    "#                 image = cv2.cvtColor(image,cv2.COLOR_RGB2GRAY)\n",
    "#                 plt.imshow(image)  \n",
    "#                 plt.show()\n",
    "                image = cv2.resize(image, image_size)\n",
    "                size  = np.size(image)\n",
    "                image = np.reshape(image,size )\n",
    "                \n",
    "                # Append the image and its corresponding label to the output\n",
    "                images.append(image)\n",
    "                labels.append(label)\n",
    "    print(count)\n",
    "    images = np.array(images, dtype = 'uint8')\n",
    "    labels = np.array(labels, dtype = 'uint8')\n",
    "\n",
    "    return images, labels, size"
   ]
  },
  {
   "cell_type": "code",
   "execution_count": 8,
   "metadata": {
    "execution": {
     "iopub.execute_input": "2021-01-28T19:39:26.511226Z",
     "iopub.status.busy": "2021-01-28T19:39:26.510537Z",
     "iopub.status.idle": "2021-01-28T19:41:29.319100Z",
     "shell.execute_reply": "2021-01-28T19:41:29.318441Z"
    },
    "papermill": {
     "duration": 122.831298,
     "end_time": "2021-01-28T19:41:29.319270",
     "exception": false,
     "start_time": "2021-01-28T19:39:26.487972",
     "status": "completed"
    },
    "pycharm": {
     "name": "#%%\n"
    },
    "tags": []
   },
   "outputs": [
    {
     "name": "stderr",
     "output_type": "stream",
     "text": [
      "100%|██████████| 2478/2478 [00:24<00:00, 99.57it/s]\n",
      "100%|██████████| 2499/2499 [00:24<00:00, 101.86it/s]\n",
      "100%|██████████| 2483/2483 [00:23<00:00, 103.73it/s]\n",
      "100%|██████████| 2497/2497 [00:24<00:00, 101.65it/s]\n",
      "100%|██████████| 620/620 [00:06<00:00, 99.85it/s]\n",
      "100%|██████████| 624/624 [00:06<00:00, 102.48it/s]\n",
      "100%|██████████| 620/620 [00:06<00:00, 103.32it/s]\n",
      "100%|██████████| 623/623 [00:05<00:00, 103.89it/s]\n"
     ]
    },
    {
     "name": "stdout",
     "output_type": "stream",
     "text": [
      "303\n"
     ]
    }
   ],
   "source": [
    "images, labels, size = load_data()"
   ]
  },
  {
   "cell_type": "markdown",
   "metadata": {
    "papermill": {
     "duration": 0.366527,
     "end_time": "2021-01-28T19:41:30.053402",
     "exception": false,
     "start_time": "2021-01-28T19:41:29.686875",
     "status": "completed"
    },
    "tags": []
   },
   "source": [
    "## Scaling data"
   ]
  },
  {
   "cell_type": "code",
   "execution_count": 9,
   "metadata": {
    "execution": {
     "iopub.execute_input": "2021-01-28T19:41:30.795064Z",
     "iopub.status.busy": "2021-01-28T19:41:30.793870Z",
     "iopub.status.idle": "2021-01-28T19:41:33.240705Z",
     "shell.execute_reply": "2021-01-28T19:41:33.240096Z"
    },
    "papermill": {
     "duration": 2.822891,
     "end_time": "2021-01-28T19:41:33.240856",
     "exception": false,
     "start_time": "2021-01-28T19:41:30.417965",
     "status": "completed"
    },
    "tags": []
   },
   "outputs": [],
   "source": [
    "scaler = MinMaxScaler(copy=False ,feature_range=(-1,1))\n",
    "images = scaler.fit_transform(images)\n"
   ]
  },
  {
   "cell_type": "code",
   "execution_count": 10,
   "metadata": {
    "execution": {
     "iopub.execute_input": "2021-01-28T19:41:33.976403Z",
     "iopub.status.busy": "2021-01-28T19:41:33.974971Z",
     "iopub.status.idle": "2021-01-28T19:41:34.140054Z",
     "shell.execute_reply": "2021-01-28T19:41:34.139521Z"
    },
    "papermill": {
     "duration": 0.53305,
     "end_time": "2021-01-28T19:41:34.140202",
     "exception": false,
     "start_time": "2021-01-28T19:41:33.607152",
     "status": "completed"
    },
    "tags": []
   },
   "outputs": [
    {
     "data": {
      "text/plain": [
       "1.0"
      ]
     },
     "execution_count": 10,
     "metadata": {},
     "output_type": "execute_result"
    }
   ],
   "source": [
    "np.max(images)"
   ]
  },
  {
   "cell_type": "code",
   "execution_count": 11,
   "metadata": {
    "execution": {
     "iopub.execute_input": "2021-01-28T19:41:34.880993Z",
     "iopub.status.busy": "2021-01-28T19:41:34.880288Z",
     "iopub.status.idle": "2021-01-28T19:41:35.767859Z",
     "shell.execute_reply": "2021-01-28T19:41:35.767154Z"
    },
    "papermill": {
     "duration": 1.258864,
     "end_time": "2021-01-28T19:41:35.768002",
     "exception": false,
     "start_time": "2021-01-28T19:41:34.509138",
     "status": "completed"
    },
    "tags": []
   },
   "outputs": [],
   "source": [
    "images = np.append(np.ones((images.shape[0],1)),images,axis=1)"
   ]
  },
  {
   "cell_type": "code",
   "execution_count": 12,
   "metadata": {
    "execution": {
     "iopub.execute_input": "2021-01-28T19:41:36.508318Z",
     "iopub.status.busy": "2021-01-28T19:41:36.506718Z",
     "iopub.status.idle": "2021-01-28T19:41:37.644064Z",
     "shell.execute_reply": "2021-01-28T19:41:37.644572Z"
    },
    "papermill": {
     "duration": 1.510465,
     "end_time": "2021-01-28T19:41:37.644763",
     "exception": false,
     "start_time": "2021-01-28T19:41:36.134298",
     "status": "completed"
    },
    "pycharm": {
     "is_executing": true,
     "name": "#%%\n"
    },
    "tags": []
   },
   "outputs": [
    {
     "name": "stdout",
     "output_type": "stream",
     "text": [
      " 00\n",
      " 00\n"
     ]
    }
   ],
   "source": [
    "\n",
    "images, labels = shuffle(images, labels, random_state=10)\n",
    "# images = images[0:6000] ,labels = labels[0:6000], n = int(np.shape(images)[0]*0.8)\n",
    "print(\" 00\")\n",
    "# train_images, test_images = images[indeces[0:n]], images[indeces[n:]] , train_labels, test_labels = labels[indeces[0:n]], labels[indeces[n:]]\n",
    "train_images, test_images, train_labels, test_labels = train_test_split(images, labels, test_size = 0.2)\n",
    "print(\" 00\")"
   ]
  },
  {
   "cell_type": "code",
   "execution_count": 13,
   "metadata": {
    "execution": {
     "iopub.execute_input": "2021-01-28T19:41:38.387758Z",
     "iopub.status.busy": "2021-01-28T19:41:38.387023Z",
     "iopub.status.idle": "2021-01-28T19:41:38.390138Z",
     "shell.execute_reply": "2021-01-28T19:41:38.390675Z"
    },
    "papermill": {
     "duration": 0.377466,
     "end_time": "2021-01-28T19:41:38.390861",
     "exception": false,
     "start_time": "2021-01-28T19:41:38.013395",
     "status": "completed"
    },
    "pycharm": {
     "is_executing": true,
     "name": "#%%\n"
    },
    "tags": []
   },
   "outputs": [],
   "source": [
    "del images ,labels"
   ]
  },
  {
   "cell_type": "code",
   "execution_count": 14,
   "metadata": {
    "execution": {
     "iopub.execute_input": "2021-01-28T19:41:39.239529Z",
     "iopub.status.busy": "2021-01-28T19:41:39.238838Z",
     "iopub.status.idle": "2021-01-28T19:41:39.245437Z",
     "shell.execute_reply": "2021-01-28T19:41:39.245969Z"
    },
    "papermill": {
     "duration": 0.483948,
     "end_time": "2021-01-28T19:41:39.246172",
     "exception": false,
     "start_time": "2021-01-28T19:41:38.762224",
     "status": "completed"
    },
    "tags": []
   },
   "outputs": [
    {
     "data": {
      "text/plain": [
       "(9712, 19201)"
      ]
     },
     "execution_count": 14,
     "metadata": {},
     "output_type": "execute_result"
    }
   ],
   "source": [
    "np.shape(train_images)"
   ]
  },
  {
   "cell_type": "code",
   "execution_count": 15,
   "metadata": {
    "execution": {
     "iopub.execute_input": "2021-01-28T19:41:40.023258Z",
     "iopub.status.busy": "2021-01-28T19:41:40.022569Z",
     "iopub.status.idle": "2021-01-28T19:41:40.027681Z",
     "shell.execute_reply": "2021-01-28T19:41:40.027147Z"
    },
    "papermill": {
     "duration": 0.378074,
     "end_time": "2021-01-28T19:41:40.027831",
     "exception": false,
     "start_time": "2021-01-28T19:41:39.649757",
     "status": "completed"
    },
    "pycharm": {
     "name": "#%%\n"
    },
    "tags": []
   },
   "outputs": [
    {
     "data": {
      "text/plain": [
       "1"
      ]
     },
     "execution_count": 15,
     "metadata": {},
     "output_type": "execute_result"
    }
   ],
   "source": [
    "test_labels[0].size"
   ]
  },
  {
   "cell_type": "markdown",
   "metadata": {
    "papermill": {
     "duration": 0.370151,
     "end_time": "2021-01-28T19:41:40.767782",
     "exception": false,
     "start_time": "2021-01-28T19:41:40.397631",
     "status": "completed"
    },
    "tags": []
   },
   "source": [
    "# Classification"
   ]
  },
  {
   "cell_type": "markdown",
   "metadata": {
    "papermill": {
     "duration": 0.366788,
     "end_time": "2021-01-28T19:41:41.501633",
     "exception": false,
     "start_time": "2021-01-28T19:41:41.134845",
     "status": "completed"
    },
    "tags": []
   },
   "source": [
    "    we chose Random Forest and Support Vector machine as they can deal with great number of features."
   ]
  },
  {
   "cell_type": "markdown",
   "metadata": {
    "papermill": {
     "duration": 0.373342,
     "end_time": "2021-01-28T19:41:42.244328",
     "exception": false,
     "start_time": "2021-01-28T19:41:41.870986",
     "status": "completed"
    },
    "tags": []
   },
   "source": [
    "### 1. Random Forest"
   ]
  },
  {
   "cell_type": "code",
   "execution_count": 16,
   "metadata": {
    "execution": {
     "iopub.execute_input": "2021-01-28T19:41:43.037501Z",
     "iopub.status.busy": "2021-01-28T19:41:43.036786Z",
     "iopub.status.idle": "2021-01-28T19:43:02.437036Z",
     "shell.execute_reply": "2021-01-28T19:43:02.437571Z"
    },
    "papermill": {
     "duration": 79.77503,
     "end_time": "2021-01-28T19:43:02.437745",
     "exception": false,
     "start_time": "2021-01-28T19:41:42.662715",
     "status": "completed"
    },
    "tags": []
   },
   "outputs": [
    {
     "name": "stdout",
     "output_type": "stream",
     "text": [
      "0.9209551255660766\n"
     ]
    }
   ],
   "source": [
    "from sklearn.ensemble import RandomForestClassifier\n",
    "clf = RandomForestClassifier(max_depth=30, random_state=0)\n",
    "clf.fit(train_images,train_labels)\n",
    "print(clf.score(test_images,test_labels))"
   ]
  },
  {
   "cell_type": "code",
   "execution_count": 17,
   "metadata": {
    "execution": {
     "iopub.execute_input": "2021-01-28T19:43:03.183226Z",
     "iopub.status.busy": "2021-01-28T19:43:03.182532Z",
     "iopub.status.idle": "2021-01-28T19:43:04.324317Z",
     "shell.execute_reply": "2021-01-28T19:43:04.323623Z"
    },
    "papermill": {
     "duration": 1.516362,
     "end_time": "2021-01-28T19:43:04.324471",
     "exception": false,
     "start_time": "2021-01-28T19:43:02.808109",
     "status": "completed"
    },
    "tags": []
   },
   "outputs": [],
   "source": [
    "\n",
    "pred = clf.predict(test_images)\n",
    "pred2 = clf.predict(train_images)\n"
   ]
  },
  {
   "cell_type": "code",
   "execution_count": 18,
   "metadata": {
    "execution": {
     "iopub.execute_input": "2021-01-28T19:43:05.071500Z",
     "iopub.status.busy": "2021-01-28T19:43:05.070498Z",
     "iopub.status.idle": "2021-01-28T19:43:05.075312Z",
     "shell.execute_reply": "2021-01-28T19:43:05.074697Z"
    },
    "papermill": {
     "duration": 0.382198,
     "end_time": "2021-01-28T19:43:05.075470",
     "exception": false,
     "start_time": "2021-01-28T19:43:04.693272",
     "status": "completed"
    },
    "tags": []
   },
   "outputs": [
    {
     "data": {
      "text/plain": [
       "array([4, 4, 1, ..., 2, 4, 1], dtype=uint8)"
      ]
     },
     "execution_count": 18,
     "metadata": {},
     "output_type": "execute_result"
    }
   ],
   "source": [
    "test_labels"
   ]
  },
  {
   "cell_type": "markdown",
   "metadata": {
    "papermill": {
     "duration": 0.370753,
     "end_time": "2021-01-28T19:43:05.816952",
     "exception": false,
     "start_time": "2021-01-28T19:43:05.446199",
     "status": "completed"
    },
    "tags": []
   },
   "source": [
    "## Getting Accuracy Score"
   ]
  },
  {
   "cell_type": "code",
   "execution_count": 19,
   "metadata": {
    "execution": {
     "iopub.execute_input": "2021-01-28T19:43:06.562174Z",
     "iopub.status.busy": "2021-01-28T19:43:06.561184Z",
     "iopub.status.idle": "2021-01-28T19:43:06.569647Z",
     "shell.execute_reply": "2021-01-28T19:43:06.570131Z"
    },
    "papermill": {
     "duration": 0.384038,
     "end_time": "2021-01-28T19:43:06.570330",
     "exception": false,
     "start_time": "2021-01-28T19:43:06.186292",
     "status": "completed"
    },
    "tags": []
   },
   "outputs": [
    {
     "name": "stdout",
     "output_type": "stream",
     "text": [
      "Test accuracy 0.9209551255660766\n",
      "Train accuracy 1.0\n"
     ]
    }
   ],
   "source": [
    "from sklearn.metrics import accuracy_score\n",
    "print(\"Test accuracy\",accuracy_score(test_labels, pred))\n",
    "print(\"Train accuracy\",accuracy_score(train_labels,pred2))\n"
   ]
  }
 ],
 "metadata": {
  "kernelspec": {
   "display_name": "Python 3",
   "language": "python",
   "name": "python3"
  },
  "language_info": {
   "codemirror_mode": {
    "name": "ipython",
    "version": 3
   },
   "file_extension": ".py",
   "mimetype": "text/x-python",
   "name": "python",
   "nbconvert_exporter": "python",
   "pygments_lexer": "ipython3",
   "version": "3.7.9"
  },
  "papermill": {
   "default_parameters": {},
   "duration": 241.098486,
   "end_time": "2021-01-28T19:43:07.653138",
   "environment_variables": {},
   "exception": null,
   "input_path": "__notebook__.ipynb",
   "output_path": "__notebook__.ipynb",
   "parameters": {},
   "start_time": "2021-01-28T19:39:06.554652",
   "version": "2.2.2"
  }
 },
 "nbformat": 4,
 "nbformat_minor": 4
}
