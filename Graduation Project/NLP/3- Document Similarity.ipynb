{
 "cells": [
  {
   "cell_type": "code",
   "execution_count": 15,
   "metadata": {},
   "outputs": [],
   "source": [
    "import pandas as pd\n",
    "import numpy as np\n",
    "import seaborn as sns\n",
    "import matplotlib.pyplot as plt\n",
    "\n",
    "%matplotlib inline\n",
    "pd.options.display.max_colwidth=500"
   ]
  },
  {
   "cell_type": "code",
   "execution_count": 16,
   "metadata": {},
   "outputs": [
    {
     "name": "stdout",
     "output_type": "stream",
     "text": [
      "5383\n"
     ]
    },
    {
     "data": {
      "text/html": [
       "<div>\n",
       "<style scoped>\n",
       "    .dataframe tbody tr th:only-of-type {\n",
       "        vertical-align: middle;\n",
       "    }\n",
       "\n",
       "    .dataframe tbody tr th {\n",
       "        vertical-align: top;\n",
       "    }\n",
       "\n",
       "    .dataframe thead th {\n",
       "        text-align: right;\n",
       "    }\n",
       "</style>\n",
       "<table border=\"1\" class=\"dataframe\">\n",
       "  <thead>\n",
       "    <tr style=\"text-align: right;\">\n",
       "      <th></th>\n",
       "      <th>Device_Problems</th>\n",
       "      <th>Event_description</th>\n",
       "      <th>Narrative</th>\n",
       "      <th>Event_description_Narrative</th>\n",
       "    </tr>\n",
       "  </thead>\n",
       "  <tbody>\n",
       "    <tr>\n",
       "      <th>0</th>\n",
       "      <td>Calibration_Problems</td>\n",
       "      <td>It was reported to resmed that an astral device failed to complete its internal self-test. There was no patient harm or serious injury reported as a result of this incident.</td>\n",
       "      <td>The device was returned to an authorized resmed third party service center for an evaluation and service. The non-return valve (nrv) assembly was replaced to address this issue. Resmeds risk analysis for this failure mode concludes that the risk is acceptable. Resmed reference #: (b)(4). Report late due to transition from vmsr program. Establishment was unaware of fda letter dated 16 september 2019 for cbk procode status change in vmsr program until notified directly by fda on 18 december 20...</td>\n",
       "      <td>It was reported to resmed that an astral device failed to complete its internal self-test. There was no patient harm or serious injury reported as a result of this incident.The device was returned to an authorized resmed third party service center for an evaluation and service. The non-return valve (nrv) assembly was replaced to address this issue. Resmeds risk analysis for this failure mode concludes that the risk is acceptable. Resmed reference #: (b)(4). Report late due to transition from...</td>\n",
       "    </tr>\n",
       "    <tr>\n",
       "      <th>1</th>\n",
       "      <td>Circuit_failure</td>\n",
       "      <td>It was reported to resmed that an astral device had an unresponsive touchscreen. There was no patient harm or a serious injury reported as a result of this incident.</td>\n",
       "      <td>The device was returned to resmed and an evaluation confirmed the complaint. The lcd module was replaced to address the issue. The device was serviced and fully tested before it was returned to the customer. Resmed reference#: (b)(4).</td>\n",
       "      <td>It was reported to resmed that an astral device had an unresponsive touchscreen. There was no patient harm or a serious injury reported as a result of this incident.The device was returned to resmed and an evaluation confirmed the complaint. The lcd module was replaced to address the issue. The device was serviced and fully tested before it was returned to the customer. Resmed reference#: (b)(4).</td>\n",
       "    </tr>\n",
       "    <tr>\n",
       "      <th>2</th>\n",
       "      <td>Mechanical_Problems</td>\n",
       "      <td>The customer reported to vyaire medical that the vela ventilator has touchscreen issues. At this time, there is no information regarding patient involvement associated with the reported event.</td>\n",
       "      <td>Vyaire medical file identification: (b)(4). At this time, the suspect device has not been returned for evaluation. Therefore, root cause has not been determined yet. Vyaire medical will submit a supplemental report in accordance with 21 cfr section 803. 56 if additional information was received.</td>\n",
       "      <td>The customer reported to vyaire medical that the vela ventilator has touchscreen issues. At this time, there is no information regarding patient involvement associated with the reported event.Vyaire medical file identification: (b)(4). At this time, the suspect device has not been returned for evaluation. Therefore, root cause has not been determined yet. Vyaire medical will submit a supplemental report in accordance with 21 cfr section 803. 56 if additional information was received.</td>\n",
       "    </tr>\n",
       "    <tr>\n",
       "      <th>3</th>\n",
       "      <td>Calibration_Problems</td>\n",
       "      <td>Complainant alleged that while attempting to treat a patient (age &amp; gender unknown), the device displayed a \"runtime calibration failure - 1051\" error message. Complainant did not indicate that there was any adverse effect to the patient due to the reported malfunction.</td>\n",
       "      <td>Zoll medical corporation has not received the device for evaluation and this complaint is still under investigation.</td>\n",
       "      <td>Complainant alleged that while attempting to treat a patient (age &amp; gender unknown), the device displayed a \"runtime calibration failure - 1051\" error message. Complainant did not indicate that there was any adverse effect to the patient due to the reported malfunction.Zoll medical corporation has not received the device for evaluation and this complaint is still under investigation.</td>\n",
       "    </tr>\n",
       "    <tr>\n",
       "      <th>4</th>\n",
       "      <td>Calibration_Problems</td>\n",
       "      <td>It was reported to resmed that an astral device failed to complete its internal self-test. There was no patient harm or serious injury reported as a result of this incident.</td>\n",
       "      <td>The device was returned and an evaluation confirmed the complaint. The non-return valve assembly (nrv) was replaced to resolve the issue. The device was serviced and fully tested before it was returned to the customer. (b)(4).</td>\n",
       "      <td>It was reported to resmed that an astral device failed to complete its internal self-test. There was no patient harm or serious injury reported as a result of this incident.The device was returned and an evaluation confirmed the complaint. The non-return valve assembly (nrv) was replaced to resolve the issue. The device was serviced and fully tested before it was returned to the customer. (b)(4).</td>\n",
       "    </tr>\n",
       "  </tbody>\n",
       "</table>\n",
       "</div>"
      ],
      "text/plain": [
       "        Device_Problems  \\\n",
       "0  Calibration_Problems   \n",
       "1       Circuit_failure   \n",
       "2   Mechanical_Problems   \n",
       "3  Calibration_Problems   \n",
       "4  Calibration_Problems   \n",
       "\n",
       "                                                                                                                                                                                                                                                                Event_description  \\\n",
       "0                                                                                                   It was reported to resmed that an astral device failed to complete its internal self-test. There was no patient harm or serious injury reported as a result of this incident.   \n",
       "1                                                                                                           It was reported to resmed that an astral device had an unresponsive touchscreen. There was no patient harm or a serious injury reported as a result of this incident.   \n",
       "2                                                                                The customer reported to vyaire medical that the vela ventilator has touchscreen issues. At this time, there is no information regarding patient involvement associated with the reported event.   \n",
       "3  Complainant alleged that while attempting to treat a patient (age & gender unknown), the device displayed a \"runtime calibration failure - 1051\" error message. Complainant did not indicate that there was any adverse effect to the patient due to the reported malfunction.   \n",
       "4                                                                                                   It was reported to resmed that an astral device failed to complete its internal self-test. There was no patient harm or serious injury reported as a result of this incident.   \n",
       "\n",
       "                                                                                                                                                                                                                                                                                                                                                                                                                                                                                                             Narrative  \\\n",
       "0  The device was returned to an authorized resmed third party service center for an evaluation and service. The non-return valve (nrv) assembly was replaced to address this issue. Resmeds risk analysis for this failure mode concludes that the risk is acceptable. Resmed reference #: (b)(4). Report late due to transition from vmsr program. Establishment was unaware of fda letter dated 16 september 2019 for cbk procode status change in vmsr program until notified directly by fda on 18 december 20...   \n",
       "1                                                                                                                                                                                                                                                                           The device was returned to resmed and an evaluation confirmed the complaint. The lcd module was replaced to address the issue. The device was serviced and fully tested before it was returned to the customer. Resmed reference#: (b)(4).   \n",
       "2                                                                                                                                                                                                             Vyaire medical file identification: (b)(4). At this time, the suspect device has not been returned for evaluation. Therefore, root cause has not been determined yet. Vyaire medical will submit a supplemental report in accordance with 21 cfr section 803. 56 if additional information was received.   \n",
       "3                                                                                                                                                                                                                                                                                                                                                                                                 Zoll medical corporation has not received the device for evaluation and this complaint is still under investigation.   \n",
       "4                                                                                                                                                                                                                                                                                   The device was returned and an evaluation confirmed the complaint. The non-return valve assembly (nrv) was replaced to resolve the issue. The device was serviced and fully tested before it was returned to the customer. (b)(4).   \n",
       "\n",
       "                                                                                                                                                                                                                                                                                                                                                                                                                                                                                           Event_description_Narrative  \n",
       "0  It was reported to resmed that an astral device failed to complete its internal self-test. There was no patient harm or serious injury reported as a result of this incident.The device was returned to an authorized resmed third party service center for an evaluation and service. The non-return valve (nrv) assembly was replaced to address this issue. Resmeds risk analysis for this failure mode concludes that the risk is acceptable. Resmed reference #: (b)(4). Report late due to transition from...  \n",
       "1                                                                                                      It was reported to resmed that an astral device had an unresponsive touchscreen. There was no patient harm or a serious injury reported as a result of this incident.The device was returned to resmed and an evaluation confirmed the complaint. The lcd module was replaced to address the issue. The device was serviced and fully tested before it was returned to the customer. Resmed reference#: (b)(4).  \n",
       "2             The customer reported to vyaire medical that the vela ventilator has touchscreen issues. At this time, there is no information regarding patient involvement associated with the reported event.Vyaire medical file identification: (b)(4). At this time, the suspect device has not been returned for evaluation. Therefore, root cause has not been determined yet. Vyaire medical will submit a supplemental report in accordance with 21 cfr section 803. 56 if additional information was received.  \n",
       "3                                                                                                                   Complainant alleged that while attempting to treat a patient (age & gender unknown), the device displayed a \"runtime calibration failure - 1051\" error message. Complainant did not indicate that there was any adverse effect to the patient due to the reported malfunction.Zoll medical corporation has not received the device for evaluation and this complaint is still under investigation.  \n",
       "4                                                                                                      It was reported to resmed that an astral device failed to complete its internal self-test. There was no patient harm or serious injury reported as a result of this incident.The device was returned and an evaluation confirmed the complaint. The non-return valve assembly (nrv) was replaced to resolve the issue. The device was serviced and fully tested before it was returned to the customer. (b)(4).  "
      ]
     },
     "execution_count": 16,
     "metadata": {},
     "output_type": "execute_result"
    }
   ],
   "source": [
    "df=pd.read_csv(\"CBK2020transformed.csv\")\n",
    "df = df.sample(frac=1).reset_index(drop=True)\n",
    "df=df.drop(df.columns[[0]], axis = 1)\n",
    "print(len(pd.DataFrame(df)))\n",
    "df.head()"
   ]
  },
  {
   "cell_type": "code",
   "execution_count": 26,
   "metadata": {},
   "outputs": [
    {
     "name": "stdout",
     "output_type": "stream",
     "text": [
      "['It was reported to resmed that an astral device failed to charge its internal battery. There was no patient harm or serious injury reported as a result of this incident.The device was returned to resmed and an evaluation confirmed the complaint. The internal battery was replaced to address this issue. The device was serviced and fully tested before it was returned to the customer. Based on all available evidence and complaint investigations of a similar nature, an investigation determined that the reported complaint was due to an isolated component failure within the device battery assembly. Resmeds risk analysis for this failure mode concludes that the risk is acceptable. (b)(4).', 'It was reported to resmed that an astral device failed to charge its internal battery. There was no patient harm or serious injury reported as a result of this incident.The device was returned to resmed for an engineering investigation. The investigation methods, results, and conclusion are not finalized at this stage. When more information is available a supplemental report will be submitted. Resmed reference #: (b)(4).', 'It was reported to resmed that an astral device had a power source detection issue. There was no patient harm or serious injury reported as a result of this incident.The device was returned to resmed and an evaluation confirmed the complaint. The main circuit board was replaced to address this issue. The device was serviced and fully tested before it was returned to the customer. Based on all available evidence and complaint investigations of a similar nature, the investigation determined that the reported complaint was due to an isolated component failure within the device main circuit board (pcba). Resmeds risk analysis for this failure mode concludes that the risk is acceptable. Resmed reference #: (b)(4).', 'It was reported to resmed that an astral device failed while in use on a patient and the patient was consequently transported to the hospital. It was reported the patient would routinely travel to the restroom with the device connected to an extension line and the plug would break off. There was no serious injury associated with the reported incident.The device was returned to resmed. Visual inspection of the dc power inlet during an initial evaluation of the device revealed physical damage. The investigation methods, results, and conclusion are not finalized at this stage. When more information is available a supplemental report will be submitted. (b)(4).', 'The manufacturer received information alleging a ventilator failed to hold its internal battery charge. There was no harm or injury reported. The device has not yet been evaluated by the manufacturer. At this time, we are unable to confirm the alleged malfunction. A follow-up report will be submitted when the manufacturers investigation is complete.The manufacturer previously reported a ventilator failed to hold its internal battery charge. The ventilator was returned to the manufacturer for evaluation and the customers complaint was not confirmed. The device was found to operate and alarm as designed.', 'It was reported that the main light emitting diode (led) did not illuminate while connected to alternate current (ac) power. There was no patient involvement. The field service engineer (fse) evaluated the ventilator and confirmed the reported problem. The fse replaced the power supply and the problem was resolved.Date of event: (b)(6) 2020. Date of report: 02mar2020.', 'It was reported to resmed that an astral device failed to charge its internal battery. There was no patient harm or serious injury reported as a result of this incident.Resmed has requested for the device to be returned so that an engineering investigation could be performed. The device has not been returned, therefore, resmed is unable to confirm the alleged malfunction at this time. (b)(4).', 'The customer reported battery needs replaced. It is unknown if the ventilator was being used on a patient at the time that the error was discovered. Confirmation has been requested.Date of event: (b)(6) 2020. Date of report: 24apr2020.', 'It was reported to resmed that an astral device had a power source detection issue. There was no patient harm or serious injury reported as a result of this incident.The device was returned to resmed and an evaluation confirmed the complaint. The main circuit board was replaced to address this issue. The device was serviced and fully tested before it was returned to the customer. Based on all available evidence and complaint investigations of a similar nature, an investigation determined that the reported complaint was due to an isolated component failure within the device main circuit board (pcba). Resmeds risk analysis for this failure mode concludes that the risk is acceptable. Resmed reference #: (b)(4). Report late due to transition from vmsr program. Establishment was unaware of fda letter dated 16 september 2019 for cbk procode status change in vmsr program until notified directly by fda on 18 december 2019 following submission of our quarterly summary report.', 'Complainant alleged that during a routine shift check by a clinician, the device would not power up. Complainant indicated that there was no patient involvement in the reported malfunction.The device was returned to zoll medical corporation; the customers report was duplicated and attributed to a faulty capacitor on the smart pneumatic module board. The device was recertified and returned to the customer. Analysis for reports of this type has not identified an increase in trend.', 'It was reported to resmed that an astral device would charge intermittently. There was no patient harm or serious injury reported as a result of this incident.The device was returned to resmed for an engineering investigation. The investigation methods, results and conclusion are not finalized at this stage. When more information is available, a supplemental report will be submitted. (b)(4). Pending evaluation.', 'It was reported to resmed that an astral device did not power on. There was no patient harm or serious injury reported as a result of this incident.The device was returned to an authorized resmed third party service center for an evaluation and service. The customer was issued with a replacement main circuit board as a part of a warranty claim. Resmed reference#: (b)(4).', 'It was reported to resmed that an astral device had power source detection problems. There was no patient harm or serious injury reported as a result of this incident.Resmed has requested for the device to be returned so that an engineering investigation could be performed. The device has not been returned, therefore, resmed is unable to confirm the alleged malfunction at this time. (b)(4).', 'It was reported that an astral device displayed a battery error message repeatedly. There was no patient harm or serious injury reported as result of this incident.The device was returned and an evaluation confirmed the complaint. The internal battery was replaced to resolve the issue. The device was serviced and fully tested before it was returned to the customer. (b)(4).', 'It was reported to resmed that an astral device had an internal battery with reduced level of capacity. There was no patient harm or serious injury reported as a result of this incident.The device was returned and an evaluation confirmed the complaint. The battery was replaced to address the issue. The device was serviced and fully tested before it was returned to the customer. (b)(4).', 'It was reported to resmed that an astral device had an external battery with a reduced level of capacity. There was no patient harm or serious injury reported as a result of this incident.The device was returned to resmed and an evaluation confirmed the complaint. The battery required replacement. The customer declined service and the device was scrapped as requested. (b)(4).', 'It was reported to resmed that an astral device displayed an internal battery error message. There was no patient harm or serious injury reported as a result of this incident.The device was returned and an evaluation confirmed the complaint. The internal battery was replaced to address the issue. The device was serviced and fully tested before it was returned to the customer. (b)(4).', 'The customer reported a ventilator that would not charge the battery. There was no patient involvement.Date of event: (b)(6) 2020. Date of report: 28apr2020.', 'The customer reported system wont power on. There was no patient involvement.Date of event: (b)(6) 2020. Date of report: 10jun2020.', 'The customer reported the battery was too low. It is unknown if the device was in clinical use, however there was no patient or user harm reported.Date of event: (b)(6) 2020. Date of report: 23mar2020.', 'It was reported to resmed that an astral device displayed a battery communications lost alarm. There was no patient harm or serious injury reported as a result of this incident.The device was returned and an evaluation confirmed the complaint. The internal battery and main circuit board were replaced to address the issue. The device was serviced and fully tested before it was returned to the customer. (b)(4).', 'It was reported to resmed that an astral device had an internal battery with a reduced level of capacity. The device was not in patient use when the reported event occurred.Resmed has requested for the device to be returned so that an engineering investigation could be performed. The device has not been returned, therefore, resmed is unable to confirm the alleged malfunction at this time. (b)(4).', 'It was reported that the units backup battery was not charging or the plug was not working. It was also reported that the battery lights on the unit were flashing. There was no patient involvement. The manufacturers field service engineer (fse) performed troubleshooting and confirmed the reported issue. The external batteries failed testing and the battery lights on the bottom of the cart battery were flashing. The fse replaced the battery with an external battery the customer provided; however, the issue persisted. Due to the unit being out of service life and no parts available for the external battery, the customer elected to remove the unit from service.Date of event: (b)(6) 2020. Date of report: 15jan2020.', 'It was reported to resmed that an astral device did not power on. There was no patient harm or a serious injury reported as a result of this incident.Visual inspection during evaluation of the device revealed broken parts inside the device, damage to the device chassis and bottom case. Based on all available evidence, an investigation determined that the reported complaint was due to physical damage. Resmeds risk analysis for this failure mode concludes that the risk is acceptable. (b)(4).']\n",
      "A total of 24 Power_Problems have been collected\n"
     ]
    }
   ],
   "source": [
    "DI=0      # desired initial index\n",
    "DE=5383   # desired end index\n",
    "#Pandas DataFrame dropna() function is used to remove rows and columns with Null/NaN values.\n",
    "# in list form\n",
    "P_P_list=(list(df['Event_description_Narrative'][DI:DE].where(df['Device_Problems'] == 'Power_Problems').dropna()))[:24]\n",
    "C_F_list=(list(df['Event_description_Narrative'][DI:DE].where(df['Device_Problems'] == 'Circuit_failure').dropna()))[:24]\n",
    "M_P_list=(list(df['Event_description_Narrative'][DI:DE].where(df['Device_Problems'] == 'Mechanical_Problems').dropna()))[:24]\n",
    "S_P_list=(list(df['Event_description_Narrative'][DI:DE].where(df['Device_Problems'] == 'Software_Problems').dropna()))[:24]\n",
    "C_P_list=(list(df['Event_description_Narrative'][DI:DE].where(df['Device_Problems'] == 'Calibration_Problems').dropna()))[:24]\n",
    "num_P_P = len(P_P_list)\n",
    "print(P_P_list)\n",
    "print(\"A total of \" + str(num_P_P) + \" Power_Problems have been collected\")"
   ]
  },
  {
   "cell_type": "code",
   "execution_count": 27,
   "metadata": {},
   "outputs": [
    {
     "name": "stdout",
     "output_type": "stream",
     "text": [
      "There are a total of 276 pairs\n",
      "Displaying first 10 pairs: \n"
     ]
    },
    {
     "data": {
      "text/plain": [
       "[('Document_0', 'Document_1'),\n",
       " ('Document_0', 'Document_2'),\n",
       " ('Document_0', 'Document_3'),\n",
       " ('Document_0', 'Document_4'),\n",
       " ('Document_0', 'Document_5'),\n",
       " ('Document_0', 'Document_6'),\n",
       " ('Document_0', 'Document_7'),\n",
       " ('Document_0', 'Document_8'),\n",
       " ('Document_0', 'Document_9'),\n",
       " ('Document_0', 'Document_10')]"
      ]
     },
     "metadata": {},
     "output_type": "display_data"
    },
    {
     "name": "stdout",
     "output_type": "stream",
     "text": [
      "....\n",
      "Displaying last 10 pairs: \n"
     ]
    },
    {
     "data": {
      "text/plain": [
       "[('Document_19', 'Document_20'),\n",
       " ('Document_19', 'Document_21'),\n",
       " ('Document_19', 'Document_22'),\n",
       " ('Document_19', 'Document_23'),\n",
       " ('Document_20', 'Document_21'),\n",
       " ('Document_20', 'Document_22'),\n",
       " ('Document_20', 'Document_23'),\n",
       " ('Document_21', 'Document_22'),\n",
       " ('Document_21', 'Document_23'),\n",
       " ('Document_22', 'Document_23')]"
      ]
     },
     "metadata": {},
     "output_type": "display_data"
    }
   ],
   "source": [
    "# label Documents as Document_1, Document_2 .. Document_n\n",
    "Documentids = [\"Document_\" + str(i) for i in range(num_P_P)]\n",
    "\n",
    "# create a dictionary\n",
    "Document_dict = dict(zip(Documentids, P_P_list))\n",
    "\n",
    "# get all the book ids in a list\n",
    "ids = list(Document_dict.keys())\n",
    "#print((ids))\n",
    "\n",
    "# create all possible pairs\n",
    "pairs = []\n",
    "# create a list of tuples\n",
    "for i, v in enumerate(ids):\n",
    "    for j in ids[i+1:]:\n",
    "        pairs.append((ids[i], j))\n",
    "\n",
    "print(\"There are a total of \" + str(len(pairs)) + \" pairs\")\n",
    "print(\"Displaying first 10 pairs: \")\n",
    "display(pairs[:10])\n",
    "print(\"....\")\n",
    "print(\"Displaying last 10 pairs: \")\n",
    "display(pairs[-10:])"
   ]
  },
  {
   "cell_type": "code",
   "execution_count": 28,
   "metadata": {},
   "outputs": [],
   "source": [
    "from sklearn.feature_extraction.text import CountVectorizer, TfidfVectorizer\n",
    "import numpy as np\n",
    "import seaborn as sns\n",
    "import matplotlib.pyplot as plt\n",
    "\n",
    "def plot_heatmap(df_hm, xlabels, ylabels):\n",
    "    \"\"\"\n",
    "    Given a dataframe containing similarity grid, plot the heatmap\n",
    "    \"\"\"\n",
    "    sns.set(style=\"white\")\n",
    "\n",
    "    # Set up the matplotlib figure\n",
    "    # (to enlarge the cells, increase the figure size)\n",
    "    f, ax = plt.subplots(figsize=(8, 8))\n",
    "\n",
    "    # Generate a custom diverging colormap\n",
    "    #cmap = sns.color_palette(\"rocket_r\", as_cmap=True)\n",
    "    #\"magma\"\n",
    "    cmap = sns.diverging_palette(220, 20, as_cmap=True)\n",
    "\n",
    "    # Generate a mask for the upper triangle\n",
    "    mask = np.zeros_like(df_hm, dtype=np.bool)\n",
    "    mask[np.triu_indices_from(mask)] = True\n",
    "\n",
    "    # Draw the heatmap with the mask and correct aspect ratio\n",
    "    sns.heatmap(df_hm, mask=mask, cmap=cmap, center=1,\n",
    "            xticklabels=xlabels, yticklabels=ylabels,\n",
    "            square=True, linewidths=.005, fmt='.2f', vmax=1)\n",
    "\n",
    "    ax.set_title(\"Cosine similarity scores Power_Problems documents\").set_fontsize(15)\n",
    "    ax.set_xlabel(\"\")\n",
    "    ax.set_ylabel(\"\")\n",
    "\n",
    "    return ax\n",
    "\n",
    "\n",
    "\n",
    "##############################\n",
    "#  Module: normalization.py\n",
    "#  Author: Shravan Kuchkula\n",
    "#  Date: 07/19/2019\n",
    "##############################\n",
    "\n",
    "import re\n",
    "import pandas as pd\n",
    "import numpy as np\n",
    "import nltk\n",
    "import string\n",
    "from nltk.stem import LancasterStemmer\n",
    "from nltk.stem import WordNetLemmatizer\n",
    "\n",
    "# tokenize text\n",
    "def tokenize_text(book_text):\n",
    "    TOKEN_PATTERN = r'\\s+'\n",
    "    regex_wt = nltk.RegexpTokenizer(pattern=TOKEN_PATTERN, gaps=True)\n",
    "    word_tokens = regex_wt.tokenize(book_text)\n",
    "    return word_tokens\n",
    "\n",
    "def remove_characters_after_tokenization(tokens):\n",
    "    pattern = re.compile('[{}]'.format(re.escape(string.punctuation)))\n",
    "    filtered_tokens = filter(None, [pattern.sub('', token) for token in tokens])\n",
    "    return filtered_tokens\n",
    "\n",
    "def convert_to_lowercase(tokens):\n",
    "    return [token.lower() for token in tokens if token.isalpha()]\n",
    "\n",
    "def remove_stopwords(tokens):\n",
    "    stopword_list = nltk.corpus.stopwords.words('english')\n",
    "    #stopword_list =Circuit_failure_stopwords\n",
    "    filtered_tokens = [token for token in tokens if token not in stopword_list]\n",
    "    return filtered_tokens\n",
    "\n",
    "def apply_lemmatization(tokens, wnl=WordNetLemmatizer()):\n",
    "    return [wnl.lemmatize(token) for token in tokens]\n",
    "\n",
    "def cleanTextBooks(book_texts):\n",
    "    clean_books = []\n",
    "    for book in book_texts:\n",
    "        book_i = tokenize_text(book)\n",
    "        book_i = remove_characters_after_tokenization(book_i)\n",
    "        book_i = convert_to_lowercase(book_i)\n",
    "        book_i = remove_stopwords(book_i)\n",
    "        book_i = apply_lemmatization(book_i)\n",
    "        clean_books.append(book_i)\n",
    "    return clean_books\n",
    "\n"
   ]
  },
  {
   "cell_type": "code",
   "execution_count": 29,
   "metadata": {},
   "outputs": [
    {
     "data": {
      "text/plain": [
       "['reported resmed astral device failed charge internal battery patient harm serious injury reported result incidentthe device returned resmed evaluation confirmed complaint internal battery replaced address issue device serviced fully tested returned customer based available evidence complaint investigation similar nature investigation determined reported complaint due isolated component failure within device battery assembly resmeds risk analysis failure mode concludes risk acceptable',\n",
       " 'reported resmed astral device failed charge internal battery patient harm serious injury reported result incidentthe device returned resmed engineering investigation investigation method result conclusion finalized stage information available supplemental report submitted resmed reference',\n",
       " 'reported resmed astral device power source detection issue patient harm serious injury reported result incidentthe device returned resmed evaluation confirmed complaint main circuit board replaced address issue device serviced fully tested returned customer based available evidence complaint investigation similar nature investigation determined reported complaint due isolated component failure within device main circuit board pcba resmeds risk analysis failure mode concludes risk acceptable resmed reference',\n",
       " 'reported resmed astral device failed use patient patient consequently transported hospital reported patient would routinely travel restroom device connected extension line plug would break serious injury associated reported incidentthe device returned resmed visual inspection dc power inlet initial evaluation device revealed physical damage investigation method result conclusion finalized stage information available supplemental report submitted',\n",
       " 'manufacturer received information alleging ventilator failed hold internal battery charge harm injury reported device yet evaluated manufacturer time unable confirm alleged malfunction followup report submitted manufacturer investigation completethe manufacturer previously reported ventilator failed hold internal battery charge ventilator returned manufacturer evaluation customer complaint confirmed device found operate alarm designed',\n",
       " 'reported main light emitting diode led illuminate connected alternate current ac power patient involvement field service engineer fse evaluated ventilator confirmed reported problem fse replaced power supply problem resolveddate event date report',\n",
       " 'reported resmed astral device failed charge internal battery patient harm serious injury reported result incidentresmed requested device returned engineering investigation could performed device returned therefore resmed unable confirm alleged malfunction time',\n",
       " 'customer reported battery need replaced unknown ventilator used patient time error discovered confirmation requesteddate event date report',\n",
       " 'reported resmed astral device power source detection issue patient harm serious injury reported result incidentthe device returned resmed evaluation confirmed complaint main circuit board replaced address issue device serviced fully tested returned customer based available evidence complaint investigation similar nature investigation determined reported complaint due isolated component failure within device main circuit board pcba resmeds risk analysis failure mode concludes risk acceptable resmed reference report late due transition vmsr program establishment unaware fda letter dated september cbk procode status change vmsr program notified directly fda december following submission quarterly summary report',\n",
       " 'complainant alleged routine shift check clinician device would power complainant indicated patient involvement reported malfunctionthe device returned zoll medical corporation customer report duplicated attributed faulty capacitor smart pneumatic module board device recertified returned customer analysis report type identified increase trend',\n",
       " 'reported resmed astral device would charge intermittently patient harm serious injury reported result incidentthe device returned resmed engineering investigation investigation method result conclusion finalized stage information available supplemental report submitted pending evaluation',\n",
       " 'reported resmed astral device power patient harm serious injury reported result incidentthe device returned authorized resmed third party service center evaluation service customer issued replacement main circuit board part warranty claim resmed reference',\n",
       " 'reported resmed astral device power source detection problem patient harm serious injury reported result incidentresmed requested device returned engineering investigation could performed device returned therefore resmed unable confirm alleged malfunction time',\n",
       " 'reported astral device displayed battery error message repeatedly patient harm serious injury reported result incidentthe device returned evaluation confirmed complaint internal battery replaced resolve issue device serviced fully tested returned customer',\n",
       " 'reported resmed astral device internal battery reduced level capacity patient harm serious injury reported result incidentthe device returned evaluation confirmed complaint battery replaced address issue device serviced fully tested returned customer',\n",
       " 'reported resmed astral device external battery reduced level capacity patient harm serious injury reported result incidentthe device returned resmed evaluation confirmed complaint battery required replacement customer declined service device scrapped requested',\n",
       " 'reported resmed astral device displayed internal battery error message patient harm serious injury reported result incidentthe device returned evaluation confirmed complaint internal battery replaced address issue device serviced fully tested returned customer',\n",
       " 'customer reported ventilator would charge battery patient involvementdate event date report',\n",
       " 'customer reported system wont power patient involvementdate event date report',\n",
       " 'customer reported battery low unknown device clinical use however patient user harm reporteddate event date report',\n",
       " 'reported resmed astral device displayed battery communication lost alarm patient harm serious injury reported result incidentthe device returned evaluation confirmed complaint internal battery main circuit board replaced address issue device serviced fully tested returned customer',\n",
       " 'reported resmed astral device internal battery reduced level capacity device patient use reported event occurredresmed requested device returned engineering investigation could performed device returned therefore resmed unable confirm alleged malfunction time',\n",
       " 'reported unit backup battery charging plug working also reported battery light unit flashing patient involvement manufacturer field service engineer fse performed troubleshooting confirmed reported issue external battery failed testing battery light bottom cart battery flashing fse replaced battery external battery customer provided however issue persisted due unit service life part available external battery customer elected remove unit servicedate event date report',\n",
       " 'reported resmed astral device power patient harm serious injury reported result incidentvisual inspection evaluation device revealed broken part inside device damage device chassis bottom case based available evidence investigation determined reported complaint due physical damage resmeds risk analysis failure mode concludes risk acceptable']"
      ]
     },
     "metadata": {},
     "output_type": "display_data"
    }
   ],
   "source": [
    "# cleanTextBooks takes a list of strings and returns a list of lists\n",
    "corpus = cleanTextBooks(P_P_list)\n",
    "# convert list of lists into a list of strings\n",
    "norm_Document_corpus = [' '.join(text) for text in corpus]\n",
    "\n",
    "# display normalized corpus\n",
    "display(norm_Document_corpus)"
   ]
  },
  {
   "cell_type": "code",
   "execution_count": 30,
   "metadata": {},
   "outputs": [
    {
     "data": {
      "text/plain": [
       "TfidfVectorizer(min_df=0.0)"
      ]
     },
     "execution_count": 30,
     "metadata": {},
     "output_type": "execute_result"
    }
   ],
   "source": [
    "from sklearn.feature_extraction.text import TfidfVectorizer\n",
    "\n",
    "vectorizer = TfidfVectorizer(min_df=0.0, max_df=1.0, ngram_range=(1,1))\n",
    "vectorizer"
   ]
  },
  {
   "cell_type": "code",
   "execution_count": 31,
   "metadata": {},
   "outputs": [
    {
     "data": {
      "text/plain": [
       "TfidfVectorizer(min_df=0.0)"
      ]
     },
     "execution_count": 31,
     "metadata": {},
     "output_type": "execute_result"
    }
   ],
   "source": [
    "TfidfVectorizer(analyzer='word', binary=False, decode_error='strict',\n",
    "        dtype=np.float64, encoding='utf-8', input='content',\n",
    "        lowercase=True, max_df=1.0, max_features=None, min_df=0.0,\n",
    "        ngram_range=(1, 1), norm='l2', preprocessor=None, smooth_idf=True,\n",
    "        stop_words=None, strip_accents=None, sublinear_tf=False,\n",
    "        token_pattern='(?u)\\\\b\\\\w\\\\w+\\\\b', tokenizer=None, use_idf=True,\n",
    "        vocabulary=None)"
   ]
  },
  {
   "cell_type": "code",
   "execution_count": 32,
   "metadata": {},
   "outputs": [
    {
     "data": {
      "text/plain": [
       "(24, 229)"
      ]
     },
     "metadata": {},
     "output_type": "display_data"
    },
    {
     "data": {
      "text/plain": [
       "<1x229 sparse matrix of type '<class 'numpy.float64'>'\n",
       "\twith 44 stored elements in Compressed Sparse Row format>"
      ]
     },
     "metadata": {},
     "output_type": "display_data"
    },
    {
     "data": {
      "text/plain": [
       "array([0.        , 0.13872147, 0.12083412, 0.        , 0.        ,\n",
       "       0.        , 0.        , 0.        , 0.12902899, 0.1874328 ,\n",
       "       0.        , 0.07366381, 0.        , 0.        , 0.10747389,\n",
       "       0.        , 0.13872147, 0.24095298, 0.        , 0.        ,\n",
       "       0.        , 0.        , 0.        , 0.        , 0.        ,\n",
       "       0.        , 0.        , 0.        , 0.        , 0.12083412,\n",
       "       0.        , 0.        , 0.        , 0.        , 0.        ,\n",
       "       0.        , 0.        , 0.        , 0.        , 0.29041783,\n",
       "       0.        , 0.1505841 , 0.13872147, 0.        , 0.        ,\n",
       "       0.        , 0.09218029, 0.        , 0.        , 0.        ,\n",
       "       0.        , 0.        , 0.07366381, 0.        , 0.        ,\n",
       "       0.        , 0.        , 0.        , 0.        , 0.        ,\n",
       "       0.        , 0.13872147, 0.26009628, 0.        , 0.        ,\n",
       "       0.        , 0.        , 0.12902899, 0.        , 0.        ,\n",
       "       0.        , 0.        , 0.        , 0.        , 0.        ,\n",
       "       0.        , 0.08398542, 0.        , 0.13872147, 0.        ,\n",
       "       0.        , 0.12083412, 0.27744294, 0.        , 0.        ,\n",
       "       0.        , 0.        , 0.        , 0.        , 0.        ,\n",
       "       0.        , 0.        , 0.1137354 , 0.07366381, 0.        ,\n",
       "       0.        , 0.        , 0.        , 0.        , 0.        ,\n",
       "       0.08792511, 0.        , 0.        , 0.        , 0.        ,\n",
       "       0.        , 0.07366381, 0.        , 0.        , 0.        ,\n",
       "       0.        , 0.20374554, 0.18436059, 0.        , 0.        ,\n",
       "       0.1505841 , 0.10747389, 0.        , 0.        , 0.        ,\n",
       "       0.        , 0.        , 0.        , 0.        , 0.        ,\n",
       "       0.        , 0.        , 0.        , 0.        , 0.        ,\n",
       "       0.        , 0.        , 0.        , 0.        , 0.13872147,\n",
       "       0.        , 0.1505841 , 0.        , 0.        , 0.        ,\n",
       "       0.        , 0.        , 0.        , 0.05533159, 0.        ,\n",
       "       0.        , 0.        , 0.        , 0.        , 0.        ,\n",
       "       0.        , 0.        , 0.        , 0.        , 0.        ,\n",
       "       0.        , 0.        , 0.        , 0.        , 0.        ,\n",
       "       0.        , 0.        , 0.        , 0.        , 0.09680594,\n",
       "       0.        , 0.        , 0.15948431, 0.        , 0.        ,\n",
       "       0.        , 0.        , 0.1537734 , 0.13872147, 0.        ,\n",
       "       0.        , 0.        , 0.0768867 , 0.14125037, 0.        ,\n",
       "       0.27744294, 0.        , 0.        , 0.        , 0.        ,\n",
       "       0.0768867 , 0.        , 0.1137354 , 0.        , 0.        ,\n",
       "       0.1505841 , 0.        , 0.        , 0.        , 0.        ,\n",
       "       0.        , 0.        , 0.        , 0.        , 0.        ,\n",
       "       0.        , 0.1137354 , 0.        , 0.        , 0.        ,\n",
       "       0.        , 0.        , 0.        , 0.        , 0.        ,\n",
       "       0.        , 0.        , 0.        , 0.        , 0.        ,\n",
       "       0.        , 0.        , 0.        , 0.        , 0.        ,\n",
       "       0.        , 0.        , 0.        , 0.1505841 , 0.        ,\n",
       "       0.        , 0.        , 0.        , 0.        ])"
      ]
     },
     "metadata": {},
     "output_type": "display_data"
    },
    {
     "data": {
      "text/plain": [
       "(229,)"
      ]
     },
     "metadata": {},
     "output_type": "display_data"
    },
    {
     "data": {
      "text/plain": [
       "'reported resmed astral device failed charge internal battery patient harm serious injury reported result incidentthe device returned resmed evaluation confirmed complaint internal battery replaced address issue device serviced fully tested returned customer based available evidence complaint investigation similar nature investigation determined reported complaint due isolated component failure within device battery assembly resmeds risk analysis failure mode concludes risk acceptable'"
      ]
     },
     "metadata": {},
     "output_type": "display_data"
    }
   ],
   "source": [
    "# calculate the feature matrix\n",
    "feature_matrix = vectorizer.fit_transform(norm_Document_corpus).astype(float)\n",
    "\n",
    "# display the shape of feature matrix\n",
    "display(feature_matrix.shape)\n",
    "\n",
    "# display the first feature vector\n",
    "display(feature_matrix[0])\n",
    "\n",
    "# display the dense version of the feature vector\n",
    "display(feature_matrix.toarray()[0])\n",
    "\n",
    "# display the shape of dense feature vector\n",
    "display(feature_matrix.toarray()[0].shape)\n",
    "\n",
    "# display the first document text\n",
    "display(norm_Document_corpus[0])"
   ]
  },
  {
   "cell_type": "code",
   "execution_count": 33,
   "metadata": {},
   "outputs": [],
   "source": [
    "def compute_cosine_similarity(pair):\n",
    "\n",
    "    # extract the indexes from the pair\n",
    "    book1, book2 = pair\n",
    "\n",
    "    # split on _ and get index\n",
    "    book1_index = int(book1.split(\"_\")[1])\n",
    "    book2_index = int(book2.split(\"_\")[1])\n",
    "\n",
    "    # get the feature matrix of the document\n",
    "    book1_fm = feature_matrix.toarray()[book1_index]\n",
    "    book2_fm = feature_matrix.toarray()[book2_index]\n",
    "\n",
    "    # compute cosine similarity manually\n",
    "    manual_cosine_similarity = np.dot(book1_fm, book2_fm)\n",
    "\n",
    "    return manual_cosine_similarity"
   ]
  },
  {
   "cell_type": "code",
   "execution_count": 34,
   "metadata": {},
   "outputs": [
    {
     "data": {
      "text/html": [
       "<div>\n",
       "<style scoped>\n",
       "    .dataframe tbody tr th:only-of-type {\n",
       "        vertical-align: middle;\n",
       "    }\n",
       "\n",
       "    .dataframe tbody tr th {\n",
       "        vertical-align: top;\n",
       "    }\n",
       "\n",
       "    .dataframe thead th {\n",
       "        text-align: right;\n",
       "    }\n",
       "</style>\n",
       "<table border=\"1\" class=\"dataframe\">\n",
       "  <thead>\n",
       "    <tr style=\"text-align: right;\">\n",
       "      <th></th>\n",
       "      <th>pair</th>\n",
       "      <th>similarity</th>\n",
       "    </tr>\n",
       "  </thead>\n",
       "  <tbody>\n",
       "    <tr>\n",
       "      <th>0</th>\n",
       "      <td>(Document_0, Document_1)</td>\n",
       "      <td>0.390175</td>\n",
       "    </tr>\n",
       "    <tr>\n",
       "      <th>1</th>\n",
       "      <td>(Document_0, Document_2)</td>\n",
       "      <td>0.780384</td>\n",
       "    </tr>\n",
       "    <tr>\n",
       "      <th>2</th>\n",
       "      <td>(Document_0, Document_3)</td>\n",
       "      <td>0.202067</td>\n",
       "    </tr>\n",
       "    <tr>\n",
       "      <th>3</th>\n",
       "      <td>(Document_0, Document_4)</td>\n",
       "      <td>0.207278</td>\n",
       "    </tr>\n",
       "    <tr>\n",
       "      <th>4</th>\n",
       "      <td>(Document_0, Document_5)</td>\n",
       "      <td>0.040838</td>\n",
       "    </tr>\n",
       "  </tbody>\n",
       "</table>\n",
       "</div>"
      ],
      "text/plain": [
       "                       pair  similarity\n",
       "0  (Document_0, Document_1)    0.390175\n",
       "1  (Document_0, Document_2)    0.780384\n",
       "2  (Document_0, Document_3)    0.202067\n",
       "3  (Document_0, Document_4)    0.207278\n",
       "4  (Document_0, Document_5)    0.040838"
      ]
     },
     "metadata": {},
     "output_type": "display_data"
    },
    {
     "data": {
      "text/html": [
       "<div>\n",
       "<style scoped>\n",
       "    .dataframe tbody tr th:only-of-type {\n",
       "        vertical-align: middle;\n",
       "    }\n",
       "\n",
       "    .dataframe tbody tr th {\n",
       "        vertical-align: top;\n",
       "    }\n",
       "\n",
       "    .dataframe thead th {\n",
       "        text-align: right;\n",
       "    }\n",
       "</style>\n",
       "<table border=\"1\" class=\"dataframe\">\n",
       "  <thead>\n",
       "    <tr style=\"text-align: right;\">\n",
       "      <th></th>\n",
       "      <th>pair</th>\n",
       "      <th>similarity</th>\n",
       "    </tr>\n",
       "  </thead>\n",
       "  <tbody>\n",
       "    <tr>\n",
       "      <th>271</th>\n",
       "      <td>(Document_20, Document_22)</td>\n",
       "      <td>0.167936</td>\n",
       "    </tr>\n",
       "    <tr>\n",
       "      <th>272</th>\n",
       "      <td>(Document_20, Document_23)</td>\n",
       "      <td>0.199805</td>\n",
       "    </tr>\n",
       "    <tr>\n",
       "      <th>273</th>\n",
       "      <td>(Document_21, Document_22)</td>\n",
       "      <td>0.093386</td>\n",
       "    </tr>\n",
       "    <tr>\n",
       "      <th>274</th>\n",
       "      <td>(Document_21, Document_23)</td>\n",
       "      <td>0.175345</td>\n",
       "    </tr>\n",
       "    <tr>\n",
       "      <th>275</th>\n",
       "      <td>(Document_22, Document_23)</td>\n",
       "      <td>0.072348</td>\n",
       "    </tr>\n",
       "  </tbody>\n",
       "</table>\n",
       "</div>"
      ],
      "text/plain": [
       "                           pair  similarity\n",
       "271  (Document_20, Document_22)    0.167936\n",
       "272  (Document_20, Document_23)    0.199805\n",
       "273  (Document_21, Document_22)    0.093386\n",
       "274  (Document_21, Document_23)    0.175345\n",
       "275  (Document_22, Document_23)    0.072348"
      ]
     },
     "metadata": {},
     "output_type": "display_data"
    }
   ],
   "source": [
    "pairwise_cosine_similarity = [compute_cosine_similarity(pair) for pair in pairs]\n",
    "\n",
    "# create a dataframe\n",
    "df = pd.DataFrame({'pair': pairs, 'similarity': pairwise_cosine_similarity})\n",
    "display(df.head())\n",
    "display(df.tail())"
   ]
  },
  {
   "cell_type": "code",
   "execution_count": 35,
   "metadata": {},
   "outputs": [
    {
     "data": {
      "image/png": "[encoded data removed]",
      "text/plain": [
       "<Figure size 576x576 with 2 Axes>"
      ]
     },
     "metadata": {},
     "output_type": "display_data"
    }
   ],
   "source": [
    "# initialize an empty dataframe grid\n",
    "df_hm = pd.DataFrame({'ind': range(num_P_P), 'cols': range(num_P_P), 'vals': pd.Series(np.zeros(num_P_P))})\n",
    "\n",
    "# convert to a matrix\n",
    "df_hm = df_hm.pivot(index='ind', columns='cols').fillna(0)\n",
    "\n",
    "# make a copy\n",
    "df_temp = df.copy()\n",
    "\n",
    "# convert list of tuples into 2 lists\n",
    "list1 = []\n",
    "list2 = []\n",
    "for item1, item2 in df_temp.pair:\n",
    "    list1.append(item1)\n",
    "    list2.append(item2)\n",
    "\n",
    "# add two columns to df_temp\n",
    "df_temp['Doucument1'] = list1\n",
    "df_temp['Doucument2'] = list2\n",
    "\n",
    "# drop the pair as it not needed\n",
    "df_temp.drop('pair', axis=1, inplace=True)\n",
    "\n",
    "# extract index so that you can construct pairs\n",
    "df_temp['Doucument1'] = df_temp['Doucument1'].apply(lambda x: int(x.split('_')[-1]))\n",
    "df_temp['Doucument2'] = df_temp['Doucument2'].apply(lambda x: int(x.split('_')[-1]))\n",
    "\n",
    "# create tuples (0, 1, similarity)\n",
    "df_temp['pairs'] = list(zip(df_temp.Doucument1, df_temp.Doucument2, round(df_temp.similarity, 2)))\n",
    "\n",
    "# display(df_temp.head())\n",
    "\n",
    "# to get lower diagnol, swap the rows and cols.\n",
    "for row, col, similarity in df_temp.pairs:\n",
    "    df_hm.iloc[col, row] = similarity\n",
    "\n",
    "ax = plot_heatmap(df_hm, ids, ids)"
   ]
  },
  {
   "cell_type": "code",
   "execution_count": 36,
   "metadata": {},
   "outputs": [
    {
     "data": {
      "text/html": [
       "<div>\n",
       "<style scoped>\n",
       "    .dataframe tbody tr th:only-of-type {\n",
       "        vertical-align: middle;\n",
       "    }\n",
       "\n",
       "    .dataframe tbody tr th {\n",
       "        vertical-align: top;\n",
       "    }\n",
       "\n",
       "    .dataframe thead th {\n",
       "        text-align: right;\n",
       "    }\n",
       "</style>\n",
       "<table border=\"1\" class=\"dataframe\">\n",
       "  <thead>\n",
       "    <tr style=\"text-align: right;\">\n",
       "      <th></th>\n",
       "      <th>pair</th>\n",
       "      <th>similarity</th>\n",
       "    </tr>\n",
       "  </thead>\n",
       "  <tbody>\n",
       "    <tr>\n",
       "      <th>223</th>\n",
       "      <td>(Document_13, Document_16)</td>\n",
       "      <td>0.862946</td>\n",
       "    </tr>\n",
       "    <tr>\n",
       "      <th>155</th>\n",
       "      <td>(Document_7, Document_23)</td>\n",
       "      <td>0.021861</td>\n",
       "    </tr>\n",
       "  </tbody>\n",
       "</table>\n",
       "</div>"
      ],
      "text/plain": [
       "                           pair  similarity\n",
       "223  (Document_13, Document_16)    0.862946\n",
       "155   (Document_7, Document_23)    0.021861"
      ]
     },
     "execution_count": 36,
     "metadata": {},
     "output_type": "execute_result"
    }
   ],
   "source": [
    "df.loc[[df.similarity.values.argmax(), df.similarity.values.argmin()]]"
   ]
  },
  {
   "cell_type": "code",
   "execution_count": 37,
   "metadata": {},
   "outputs": [
    {
     "name": "stdout",
     "output_type": "stream",
     "text": [
      "Most similar books are: \n",
      "It was reported that an astral device displayed a battery error message repeatedly. There was no patient harm or serious injury reported as result of this incident.The device was returned and an evaluation confirmed the complaint. The internal battery was replaced to resolve the issue. The device was serviced and fully tested before it was returned to the customer. (b)(4).\n",
      " and \n",
      "It was reported to resmed that an astral device displayed an internal battery error message. There was no patient harm or serious injury reported as a result of this incident.The device was returned and an evaluation confirmed the complaint. The internal battery was replaced to address the issue. The device was serviced and fully tested before it was returned to the customer. (b)(4).\n"
     ]
    }
   ],
   "source": [
    "print(\"Most similar books are: \")\n",
    "print(Document_dict['Document_13'])\n",
    "print(\" and \")\n",
    "print(Document_dict['Document_16'])"
   ]
  },
  {
   "cell_type": "code",
   "execution_count": 38,
   "metadata": {},
   "outputs": [
    {
     "name": "stdout",
     "output_type": "stream",
     "text": [
      "Most dissimilar books are: \n",
      "The customer reported battery needs replaced. It is unknown if the ventilator was being used on a patient at the time that the error was discovered. Confirmation has been requested.Date of event: (b)(6) 2020. Date of report: 24apr2020.\n",
      " and \n",
      "It was reported to resmed that an astral device did not power on. There was no patient harm or a serious injury reported as a result of this incident.Visual inspection during evaluation of the device revealed broken parts inside the device, damage to the device chassis and bottom case. Based on all available evidence, an investigation determined that the reported complaint was due to physical damage. Resmeds risk analysis for this failure mode concludes that the risk is acceptable. (b)(4).\n"
     ]
    }
   ],
   "source": [
    "print(\"Most dissimilar books are: \")\n",
    "print(Document_dict['Document_7'])\n",
    "print(\" and \")\n",
    "print(Document_dict['Document_23'])"
   ]
  },
  {
   "cell_type": "code",
   "execution_count": null,
   "metadata": {},
   "outputs": [],
   "source": []
  }
 ],
 "metadata": {
  "kernelspec": {
   "display_name": "Python 3",
   "language": "python",
   "name": "python3"
  },
  "language_info": {
   "codemirror_mode": {
    "name": "ipython",
    "version": 3
   },
   "file_extension": ".py",
   "mimetype": "text/x-python",
   "name": "python",
   "nbconvert_exporter": "python",
   "pygments_lexer": "ipython3",
   "version": "3.8.5"
  }
 },
 "nbformat": 4,
 "nbformat_minor": 4
}
