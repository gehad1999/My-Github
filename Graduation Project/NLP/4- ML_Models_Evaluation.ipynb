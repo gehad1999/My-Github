{
 "cells": [
  {
   "cell_type": "code",
   "execution_count": 1,
   "metadata": {},
   "outputs": [
    {
     "name": "stdout",
     "output_type": "stream",
     "text": [
      "5383\n"
     ]
    },
    {
     "data": {
      "text/html": [
       "<div>\n",
       "<style scoped>\n",
       "    .dataframe tbody tr th:only-of-type {\n",
       "        vertical-align: middle;\n",
       "    }\n",
       "\n",
       "    .dataframe tbody tr th {\n",
       "        vertical-align: top;\n",
       "    }\n",
       "\n",
       "    .dataframe thead th {\n",
       "        text-align: right;\n",
       "    }\n",
       "</style>\n",
       "<table border=\"1\" class=\"dataframe\">\n",
       "  <thead>\n",
       "    <tr style=\"text-align: right;\">\n",
       "      <th></th>\n",
       "      <th>Device_Problems</th>\n",
       "      <th>Event_description</th>\n",
       "      <th>Narrative</th>\n",
       "      <th>Event_description_Narrative</th>\n",
       "    </tr>\n",
       "  </thead>\n",
       "  <tbody>\n",
       "    <tr>\n",
       "      <th>0</th>\n",
       "      <td>Mechanical_Problems</td>\n",
       "      <td>Complainant alleged that during a routine shift check by a clinician, the device displayed a \"compressor failure -1001\" error message. Complainant indicated that there was no patient involvement in the reported malfunction.</td>\n",
       "      <td>The customer was contacted for return of the suspect product. The product has not been returned to zoll for evaluation.</td>\n",
       "      <td>Complainant alleged that during a routine shift check by a clinician, the device displayed a \"compressor failure -1001\" error message. Complainant indicated that there was no patient involvement in the reported malfunction.The customer was contacted for return of the suspect product. The product has not been returned to zoll for evaluation.</td>\n",
       "    </tr>\n",
       "    <tr>\n",
       "      <th>1</th>\n",
       "      <td>Mechanical_Problems</td>\n",
       "      <td>The customer reported that while the vela ventilator was running on a patient low ve (low minute ventilation), transducer fault and high rate alarm occurred. The patient was transferred to another ventilator. The customer there is no patient harm associated with this reported event.</td>\n",
       "      <td>At this time, the suspect device has not been returned for evaluation. Therefore, root cause has not been determined yet. Vyaire medical will submit a supplemental report in accordance with 21 cfr section 803. 56 if additional information becomes available.</td>\n",
       "      <td>The customer reported that while the vela ventilator was running on a patient low ve (low minute ventilation), transducer fault and high rate alarm occurred. The patient was transferred to another ventilator. The customer there is no patient harm associated with this reported event.At this time, the suspect device has not been returned for evaluation. Therefore, root cause has not been determined yet. Vyaire medical will submit a supplemental report in accordance with 21 cfr section 803. 56 ...</td>\n",
       "    </tr>\n",
       "    <tr>\n",
       "      <th>2</th>\n",
       "      <td>Calibration_Problems</td>\n",
       "      <td>The manufacturer received information alleging a ventilators oxygen percentage could not be increased from 21%. The device was not in patient use. The device has not yet been returned the manufacturer for evaluation. At this time, we are unable to confirm the alleged malfunction. A follow-up report will be submitted when the manufacturers investigation is complete.</td>\n",
       "      <td>It was initially reported, the manufacturer received information alleging a ventilators oxygen percentage could not be increased from 21%. The device was not in patient use. Repeated attempts for additional information or to have the device returned for evaluation and investigation were unsuccessful. The manufacturer believes they will be unable to gather additional information. The manufacturer is submitting a final report at this time. If pertinent information becomes available to the manu...</td>\n",
       "      <td>The manufacturer received information alleging a ventilators oxygen percentage could not be increased from 21%. The device was not in patient use. The device has not yet been returned the manufacturer for evaluation. At this time, we are unable to confirm the alleged malfunction. A follow-up report will be submitted when the manufacturers investigation is complete.It was initially reported, the manufacturer received information alleging a ventilators oxygen percentage could not be increased ...</td>\n",
       "    </tr>\n",
       "    <tr>\n",
       "      <th>3</th>\n",
       "      <td>Mechanical_Problems</td>\n",
       "      <td>The customer reported that the vela ventilator does not work properly and giving xdcr error. At this time, there is no information regarding patient involvement associated with the reported event.</td>\n",
       "      <td>Vyaire file identification: (b)(4). At this time, the suspect device has not been returned for evaluation. Therefore, root cause has not been determined yet.</td>\n",
       "      <td>The customer reported that the vela ventilator does not work properly and giving xdcr error. At this time, there is no information regarding patient involvement associated with the reported event.Vyaire file identification: (b)(4). At this time, the suspect device has not been returned for evaluation. Therefore, root cause has not been determined yet.</td>\n",
       "    </tr>\n",
       "    <tr>\n",
       "      <th>4</th>\n",
       "      <td>Mechanical_Problems</td>\n",
       "      <td>The customer reported that the bellavista 1000 ventilator alarmed blower failure. The customer confirmed that there was no patient involvement associated with the reported event.</td>\n",
       "      <td>Vyaire file identification: (b)(4). At this time, the suspect device has not been returned for evaluation. However, log files has been sent by the customer and being reviewed by technical support. No root cause has been determined at this time since the investigation is still ongoing. Vyaire medical will submit a supplemental report in accordance with 21 cfr section 803. 56 if additional information becomes available.</td>\n",
       "      <td>The customer reported that the bellavista 1000 ventilator alarmed blower failure. The customer confirmed that there was no patient involvement associated with the reported event.Vyaire file identification: (b)(4). At this time, the suspect device has not been returned for evaluation. However, log files has been sent by the customer and being reviewed by technical support. No root cause has been determined at this time since the investigation is still ongoing. Vyaire medical will submit a sup...</td>\n",
       "    </tr>\n",
       "  </tbody>\n",
       "</table>\n",
       "</div>"
      ],
      "text/plain": [
       "        Device_Problems  \\\n",
       "0   Mechanical_Problems   \n",
       "1   Mechanical_Problems   \n",
       "2  Calibration_Problems   \n",
       "3   Mechanical_Problems   \n",
       "4   Mechanical_Problems   \n",
       "\n",
       "                                                                                                                                                                                                                                                                                                                                                                 Event_description  \\\n",
       "0                                                                                                                                                  Complainant alleged that during a routine shift check by a clinician, the device displayed a \"compressor failure -1001\" error message. Complainant indicated that there was no patient involvement in the reported malfunction.   \n",
       "1                                                                                      The customer reported that while the vela ventilator was running on a patient low ve (low minute ventilation), transducer fault and high rate alarm occurred. The patient was transferred to another ventilator. The customer there is no patient harm associated with this reported event.   \n",
       "2  The manufacturer received information alleging a ventilators oxygen percentage could not be increased from 21%. The device was not in patient use. The device has not yet been returned the manufacturer for evaluation. At this time, we are unable to confirm the alleged malfunction. A follow-up report will be submitted when the manufacturers investigation is complete.   \n",
       "3                                                                                                                                                                             The customer reported that the vela ventilator does not work properly and giving xdcr error. At this time, there is no information regarding patient involvement associated with the reported event.   \n",
       "4                                                                                                                                                                                               The customer reported that the bellavista 1000 ventilator alarmed blower failure. The customer confirmed that there was no patient involvement associated with the reported event.   \n",
       "\n",
       "                                                                                                                                                                                                                                                                                                                                                                                                                                                                                                             Narrative  \\\n",
       "0                                                                                                                                                                                                                                                                                                                                                                                              The customer was contacted for return of the suspect product. The product has not been returned to zoll for evaluation.   \n",
       "1                                                                                                                                                                                                                                                    At this time, the suspect device has not been returned for evaluation. Therefore, root cause has not been determined yet. Vyaire medical will submit a supplemental report in accordance with 21 cfr section 803. 56 if additional information becomes available.   \n",
       "2  It was initially reported, the manufacturer received information alleging a ventilators oxygen percentage could not be increased from 21%. The device was not in patient use. Repeated attempts for additional information or to have the device returned for evaluation and investigation were unsuccessful. The manufacturer believes they will be unable to gather additional information. The manufacturer is submitting a final report at this time. If pertinent information becomes available to the manu...   \n",
       "3                                                                                                                                                                                                                                                                                                                                                        Vyaire file identification: (b)(4). At this time, the suspect device has not been returned for evaluation. Therefore, root cause has not been determined yet.   \n",
       "4                                                                                Vyaire file identification: (b)(4). At this time, the suspect device has not been returned for evaluation. However, log files has been sent by the customer and being reviewed by technical support. No root cause has been determined at this time since the investigation is still ongoing. Vyaire medical will submit a supplemental report in accordance with 21 cfr section 803. 56 if additional information becomes available.   \n",
       "\n",
       "                                                                                                                                                                                                                                                                                                                                                                                                                                                                                           Event_description_Narrative  \n",
       "0                                                                                                                                                               Complainant alleged that during a routine shift check by a clinician, the device displayed a \"compressor failure -1001\" error message. Complainant indicated that there was no patient involvement in the reported malfunction.The customer was contacted for return of the suspect product. The product has not been returned to zoll for evaluation.  \n",
       "1  The customer reported that while the vela ventilator was running on a patient low ve (low minute ventilation), transducer fault and high rate alarm occurred. The patient was transferred to another ventilator. The customer there is no patient harm associated with this reported event.At this time, the suspect device has not been returned for evaluation. Therefore, root cause has not been determined yet. Vyaire medical will submit a supplemental report in accordance with 21 cfr section 803. 56 ...  \n",
       "2  The manufacturer received information alleging a ventilators oxygen percentage could not be increased from 21%. The device was not in patient use. The device has not yet been returned the manufacturer for evaluation. At this time, we are unable to confirm the alleged malfunction. A follow-up report will be submitted when the manufacturers investigation is complete.It was initially reported, the manufacturer received information alleging a ventilators oxygen percentage could not be increased ...  \n",
       "3                                                                                                                                                    The customer reported that the vela ventilator does not work properly and giving xdcr error. At this time, there is no information regarding patient involvement associated with the reported event.Vyaire file identification: (b)(4). At this time, the suspect device has not been returned for evaluation. Therefore, root cause has not been determined yet.  \n",
       "4  The customer reported that the bellavista 1000 ventilator alarmed blower failure. The customer confirmed that there was no patient involvement associated with the reported event.Vyaire file identification: (b)(4). At this time, the suspect device has not been returned for evaluation. However, log files has been sent by the customer and being reviewed by technical support. No root cause has been determined at this time since the investigation is still ongoing. Vyaire medical will submit a sup...  "
      ]
     },
     "execution_count": 1,
     "metadata": {},
     "output_type": "execute_result"
    }
   ],
   "source": [
    "from sklearn.feature_extraction.text import CountVectorizer\n",
    "from sklearn.model_selection import train_test_split\n",
    "from sklearn.feature_extraction.text import CountVectorizer\n",
    "from sklearn.feature_extraction.text import TfidfTransformer\n",
    "from sklearn.naive_bayes import MultinomialNB\n",
    "from sklearn.linear_model import LogisticRegression\n",
    "from sklearn.svm import LinearSVC\n",
    "from sklearn.metrics import confusion_matrix\n",
    "from sklearn.model_selection import cross_val_score\n",
    "from sklearn.feature_selection import chi2\n",
    "from collections import Counter\n",
    "import matplotlib.pyplot as plt\n",
    "import seaborn as sns\n",
    "import pandas as pd\n",
    "import numpy as np\n",
    "import itertools\n",
    "import string\n",
    "import io\n",
    "import re\n",
    "pd.options.display.max_colwidth=500\n",
    "df=pd.read_csv(\"CBK2020transformed.csv\")\n",
    "df=df.drop(df.columns[[0]], axis = 1)\n",
    "df = df.sample(frac=1).reset_index(drop=False)\n",
    "df=df.drop(df.columns[[0]], axis = 1)\n",
    "print(len(pd.DataFrame(df)))\n",
    "df.head()"
   ]
  },
  {
   "cell_type": "code",
   "execution_count": 2,
   "metadata": {},
   "outputs": [
    {
     "name": "stdout",
     "output_type": "stream",
     "text": [
      "Number_Of_Device_Problems = 5\n"
     ]
    },
    {
     "data": {
      "text/html": [
       "<div>\n",
       "<style scoped>\n",
       "    .dataframe tbody tr th:only-of-type {\n",
       "        vertical-align: middle;\n",
       "    }\n",
       "\n",
       "    .dataframe tbody tr th {\n",
       "        vertical-align: top;\n",
       "    }\n",
       "\n",
       "    .dataframe thead th {\n",
       "        text-align: right;\n",
       "    }\n",
       "</style>\n",
       "<table border=\"1\" class=\"dataframe\">\n",
       "  <thead>\n",
       "    <tr style=\"text-align: right;\">\n",
       "      <th></th>\n",
       "      <th>Device_Problems</th>\n",
       "    </tr>\n",
       "  </thead>\n",
       "  <tbody>\n",
       "    <tr>\n",
       "      <th>Mechanical</th>\n",
       "      <td>1937</td>\n",
       "    </tr>\n",
       "    <tr>\n",
       "      <th>Circuit</th>\n",
       "      <td>1566</td>\n",
       "    </tr>\n",
       "    <tr>\n",
       "      <th>Calibration</th>\n",
       "      <td>1186</td>\n",
       "    </tr>\n",
       "    <tr>\n",
       "      <th>Power</th>\n",
       "      <td>612</td>\n",
       "    </tr>\n",
       "    <tr>\n",
       "      <th>Software</th>\n",
       "      <td>82</td>\n",
       "    </tr>\n",
       "  </tbody>\n",
       "</table>\n",
       "</div>"
      ],
      "text/plain": [
       "             Device_Problems\n",
       "Mechanical              1937\n",
       "Circuit                 1566\n",
       "Calibration             1186\n",
       "Power                    612\n",
       "Software                  82"
      ]
     },
     "execution_count": 2,
     "metadata": {},
     "output_type": "execute_result"
    }
   ],
   "source": [
    "Names_red_DP_list=['Calibration_Problems','Software_Problems','Circuit_failure','Power_Problems','Mechanical_Problems']\n",
    "Names_DP_list=['Calibration','Software','Circuit','Power','Mechanical']\n",
    "for i in range(0, len(Names_red_DP_list)):\n",
    "    df.Device_Problems= df.Device_Problems.replace(Names_red_DP_list[i],Names_DP_list[i])\n",
    "print('Number_Of_Device_Problems =',len(pd.DataFrame(df.Device_Problems.value_counts())))\n",
    "(pd.DataFrame(df.Device_Problems.value_counts()))"
   ]
  },
  {
   "cell_type": "code",
   "execution_count": 3,
   "metadata": {},
   "outputs": [
    {
     "data": {
      "text/html": [
       "<div>\n",
       "<style scoped>\n",
       "    .dataframe tbody tr th:only-of-type {\n",
       "        vertical-align: middle;\n",
       "    }\n",
       "\n",
       "    .dataframe tbody tr th {\n",
       "        vertical-align: top;\n",
       "    }\n",
       "\n",
       "    .dataframe thead th {\n",
       "        text-align: right;\n",
       "    }\n",
       "</style>\n",
       "<table border=\"1\" class=\"dataframe\">\n",
       "  <thead>\n",
       "    <tr style=\"text-align: right;\">\n",
       "      <th></th>\n",
       "      <th>Device_Problems</th>\n",
       "    </tr>\n",
       "  </thead>\n",
       "  <tbody>\n",
       "    <tr>\n",
       "      <th>Mechanical</th>\n",
       "      <td>1937</td>\n",
       "    </tr>\n",
       "    <tr>\n",
       "      <th>Circuit</th>\n",
       "      <td>1566</td>\n",
       "    </tr>\n",
       "    <tr>\n",
       "      <th>Calibration</th>\n",
       "      <td>1186</td>\n",
       "    </tr>\n",
       "    <tr>\n",
       "      <th>Power</th>\n",
       "      <td>612</td>\n",
       "    </tr>\n",
       "    <tr>\n",
       "      <th>Software</th>\n",
       "      <td>82</td>\n",
       "    </tr>\n",
       "  </tbody>\n",
       "</table>\n",
       "</div>"
      ],
      "text/plain": [
       "             Device_Problems\n",
       "Mechanical              1937\n",
       "Circuit                 1566\n",
       "Calibration             1186\n",
       "Power                    612\n",
       "Software                  82"
      ]
     },
     "execution_count": 3,
     "metadata": {},
     "output_type": "execute_result"
    }
   ],
   "source": [
    "pd.DataFrame(df.Device_Problems.value_counts())"
   ]
  },
  {
   "cell_type": "code",
   "execution_count": 4,
   "metadata": {},
   "outputs": [
    {
     "data": {
      "image/png": "[encoded data removed]",
      "text/plain": [
       "<Figure size 576x432 with 1 Axes>"
      ]
     },
     "metadata": {
      "needs_background": "light"
     },
     "output_type": "display_data"
    }
   ],
   "source": [
    "fig = plt.figure(figsize=(8,6))\n",
    "df.groupby('Device_Problems').Event_description_Narrative.count().plot.bar(ylim=0)\n",
    "plt.show()"
   ]
  },
  {
   "cell_type": "code",
   "execution_count": 5,
   "metadata": {},
   "outputs": [
    {
     "name": "stdout",
     "output_type": "stream",
     "text": [
      "5383\n"
     ]
    },
    {
     "data": {
      "text/html": [
       "<div>\n",
       "<style scoped>\n",
       "    .dataframe tbody tr th:only-of-type {\n",
       "        vertical-align: middle;\n",
       "    }\n",
       "\n",
       "    .dataframe tbody tr th {\n",
       "        vertical-align: top;\n",
       "    }\n",
       "\n",
       "    .dataframe thead th {\n",
       "        text-align: right;\n",
       "    }\n",
       "</style>\n",
       "<table border=\"1\" class=\"dataframe\">\n",
       "  <thead>\n",
       "    <tr style=\"text-align: right;\">\n",
       "      <th></th>\n",
       "      <th>Device_Problems</th>\n",
       "      <th>Event_description_Narrative</th>\n",
       "      <th>category_id</th>\n",
       "    </tr>\n",
       "  </thead>\n",
       "  <tbody>\n",
       "    <tr>\n",
       "      <th>3151</th>\n",
       "      <td>Software</td>\n",
       "      <td>The customer reported bellavista 1000 known black screen issue with g6 units prior patient use. Furthermore, there was no patient involvement associated with the event.Vyaire file identification: (b)(4). Any additional information received from the customer will be included in a follow-up report. At this time, the suspect device has not been return for investigation however, this is a known issue from g6 units. Therefore, technical support traced the issue to the epc component and initiated ...</td>\n",
       "      <td>4</td>\n",
       "    </tr>\n",
       "    <tr>\n",
       "      <th>4861</th>\n",
       "      <td>Circuit</td>\n",
       "      <td>The customer contacted technical support (ts) stating that the unit had an error code message of maximum system resets exceeded. The customer reported there was no patient involvement.Date of event: (b)(6) 2020. Date of report: 19oct2020.</td>\n",
       "      <td>2</td>\n",
       "    </tr>\n",
       "    <tr>\n",
       "      <th>1503</th>\n",
       "      <td>Circuit</td>\n",
       "      <td>The customer reported that the screen goes black when the avea ventilator is booted up. At this time, there is no information regarding patient involvement associated with the reported event.(b)(4). At this time, the suspect device has not been returned for evaluation. Therefore, root cause has not been determined yet. However, the technical support suggested replacing the power supply aside from the customers requested replacement parts. Vyaire medical will submit a supplemental report in a...</td>\n",
       "      <td>2</td>\n",
       "    </tr>\n",
       "  </tbody>\n",
       "</table>\n",
       "</div>"
      ],
      "text/plain": [
       "     Device_Problems  \\\n",
       "3151        Software   \n",
       "4861         Circuit   \n",
       "1503         Circuit   \n",
       "\n",
       "                                                                                                                                                                                                                                                                                                                                                                                                                                                                                              Event_description_Narrative  \\\n",
       "3151  The customer reported bellavista 1000 known black screen issue with g6 units prior patient use. Furthermore, there was no patient involvement associated with the event.Vyaire file identification: (b)(4). Any additional information received from the customer will be included in a follow-up report. At this time, the suspect device has not been return for investigation however, this is a known issue from g6 units. Therefore, technical support traced the issue to the epc component and initiated ...   \n",
       "4861                                                                                                                                                                                                                                                                       The customer contacted technical support (ts) stating that the unit had an error code message of maximum system resets exceeded. The customer reported there was no patient involvement.Date of event: (b)(6) 2020. Date of report: 19oct2020.   \n",
       "1503  The customer reported that the screen goes black when the avea ventilator is booted up. At this time, there is no information regarding patient involvement associated with the reported event.(b)(4). At this time, the suspect device has not been returned for evaluation. Therefore, root cause has not been determined yet. However, the technical support suggested replacing the power supply aside from the customers requested replacement parts. Vyaire medical will submit a supplemental report in a...   \n",
       "\n",
       "      category_id  \n",
       "3151            4  \n",
       "4861            2  \n",
       "1503            2  "
      ]
     },
     "execution_count": 5,
     "metadata": {},
     "output_type": "execute_result"
    }
   ],
   "source": [
    "col = ['Device_Problems', 'Event_description_Narrative']\n",
    "df= df[col]\n",
    "df= df[pd.notnull(df['Event_description_Narrative'])]\n",
    "#result = result[pd.notnull(result['Event_description'])]\n",
    "df.columns = ['Device_Problems', 'Event_description_Narrative']\n",
    "df['category_id'] =df['Device_Problems'].factorize()[0]\n",
    "category_id_df= df[['Device_Problems', 'category_id']].drop_duplicates().sort_values('category_id')\n",
    "category_to_id = dict(category_id_df.values)\n",
    "id_to_category= dict(category_id_df[['category_id', 'Device_Problems']].values)\n",
    "print(len(df))\n",
    "df.sample(n=3)"
   ]
  },
  {
   "cell_type": "code",
   "execution_count": 6,
   "metadata": {},
   "outputs": [
    {
     "data": {
      "text/plain": [
       "(5383, 5145)"
      ]
     },
     "execution_count": 6,
     "metadata": {},
     "output_type": "execute_result"
    }
   ],
   "source": [
    "from sklearn.feature_extraction.text import TfidfVectorizer\n",
    "tfidf = TfidfVectorizer(sublinear_tf=True, min_df=5, norm='l2',\n",
    "                        encoding='latin-1', ngram_range=(1, 2), \n",
    "                        stop_words='english')\n",
    "features = tfidf.fit_transform(df[\"Event_description_Narrative\"]).toarray()\n",
    "labels = df.category_id\n",
    "features.shape"
   ]
  },
  {
   "cell_type": "code",
   "execution_count": 7,
   "metadata": {},
   "outputs": [
    {
     "name": "stdout",
     "output_type": "stream",
     "text": [
      "# 'Calibration':\n",
      "  . Most correlated unigrams:\n",
      ". pneumatic\n",
      ". internal\n",
      ". failed\n",
      ". non\n",
      ". block\n",
      ". test\n",
      ". nrv\n",
      ". resmed\n",
      ". complete\n",
      ". self\n",
      "  . Most correlated bigrams:\n",
      ". complaint pneumatic\n",
      ". pneumatic block\n",
      ". return valve\n",
      ". non return\n",
      ". device failed\n",
      ". self test\n",
      ". test patient\n",
      ". internal self\n",
      ". complete internal\n",
      ". failed complete\n",
      "# 'Circuit':\n",
      "  . Most correlated unigrams:\n",
      ". screen\n",
      ". self\n",
      ". manufacturers\n",
      ". complaints\n",
      ". activities\n",
      ". unanticipated\n",
      ". 2020\n",
      ". getinge\n",
      ". display\n",
      ". date\n",
      "  . Most correlated bigrams:\n",
      ". unanticipated repair\n",
      ". repair activities\n",
      ". submitted complaints\n",
      ". date report\n",
      ". event 2020\n",
      ". failed complete\n",
      ". complete internal\n",
      ". internal self\n",
      ". device failed\n",
      ". date event\n",
      "# 'Mechanical':\n",
      "  . Most correlated unigrams:\n",
      ". medical\n",
      ". information\n",
      ". transducer\n",
      ". fault\n",
      ". suspect\n",
      ". associated\n",
      ". additional\n",
      ". vela\n",
      ". resmed\n",
      ". vyaire\n",
      "  . Most correlated bigrams:\n",
      ". root cause\n",
      ". involvement associated\n",
      ". transducer fault\n",
      ". cause determined\n",
      ". evaluation root\n",
      ". associated reported\n",
      ". suspect device\n",
      ". additional information\n",
      ". vela ventilator\n",
      ". vyaire medical\n",
      "# 'Power':\n",
      "  . Most correlated unigrams:\n",
      ". supply\n",
      ". psu\n",
      ". source\n",
      ". level\n",
      ". capacity\n",
      ". reduced\n",
      ". detection\n",
      ". power\n",
      ". charge\n",
      ". battery\n",
      "  . Most correlated bigrams:\n",
      ". power complainant\n",
      ". detection issue\n",
      ". power patient\n",
      ". source detection\n",
      ". power source\n",
      ". internal battery\n",
      ". battery patient\n",
      ". charge internal\n",
      ". device power\n",
      ". failed charge\n",
      "# 'Software':\n",
      "  . Most correlated unigrams:\n",
      ". instructions\n",
      ". physical\n",
      ". perform\n",
      ". assisted\n",
      ". epc\n",
      ". 03\n",
      ". hard\n",
      ". case\n",
      ". touchscreen\n",
      ". unresponsive\n",
      "  . Most correlated bigrams:\n",
      ". perform hard\n",
      ". unit touchscreen\n",
      ". hard reset\n",
      ". calibrated resolve\n",
      ". case replaced\n",
      ". case assembly\n",
      ". complaint case\n",
      ". touchscreen patient\n",
      ". unresponsive touchscreen\n",
      ". device unresponsive\n"
     ]
    }
   ],
   "source": [
    "N = 10\n",
    "for Device_Problems, category_id in sorted(category_to_id.items()):\n",
    "  features_chi2 = chi2(features, labels == category_id)\n",
    "  indices = np.argsort(features_chi2[0])\n",
    "  feature_names = np.array(tfidf.get_feature_names())[indices]\n",
    "  unigrams = [v for v in feature_names if len(v.split(' ')) == 1]\n",
    "  bigrams = [v for v in feature_names if len(v.split(' ')) == 2]\n",
    "  print(\"# '{}':\".format(Device_Problems))\n",
    "  print(\"  . Most correlated unigrams:\\n. {}\".format('\\n. '.join(unigrams[-N:])))\n",
    "  print(\"  . Most correlated bigrams:\\n. {}\".format('\\n. '.join(bigrams[-N:])))"
   ]
  },
  {
   "cell_type": "code",
   "execution_count": 8,
   "metadata": {},
   "outputs": [
    {
     "data": {
      "image/png": "[encoded data removed]",
      "text/plain": [
       "<Figure size 432x288 with 1 Axes>"
      ]
     },
     "metadata": {
      "needs_background": "light"
     },
     "output_type": "display_data"
    }
   ],
   "source": [
    "models = [\n",
    "    LinearSVC(),\n",
    "    MultinomialNB(),\n",
    "    LogisticRegression(random_state=0),\n",
    "]\n",
    "CV = 5\n",
    "cv_df = pd.DataFrame(index=range(CV * len(models)))\n",
    "entries = []\n",
    "for model in models:\n",
    "  model_name = model.__class__.__name__\n",
    "  accuracies = cross_val_score(model, features, labels, scoring='accuracy', cv=CV)\n",
    "  for fold_idx, accuracy in enumerate(accuracies):\n",
    "    entries.append((model_name, fold_idx, accuracy))\n",
    "cv_df = pd.DataFrame(entries, columns=['model_name', 'fold_idx', 'accuracy'])\n",
    "import seaborn as sns\n",
    "sns.boxplot(x='model_name', y='accuracy', data=cv_df)\n",
    "sns.stripplot(x='model_name', y='accuracy', data=cv_df, \n",
    "              size=8, jitter=True, edgecolor=\"gray\", linewidth=2)\n",
    "plt.show()"
   ]
  },
  {
   "cell_type": "code",
   "execution_count": 9,
   "metadata": {},
   "outputs": [
    {
     "data": {
      "text/html": [
       "<div>\n",
       "<style scoped>\n",
       "    .dataframe tbody tr th:only-of-type {\n",
       "        vertical-align: middle;\n",
       "    }\n",
       "\n",
       "    .dataframe tbody tr th {\n",
       "        vertical-align: top;\n",
       "    }\n",
       "\n",
       "    .dataframe thead th {\n",
       "        text-align: right;\n",
       "    }\n",
       "</style>\n",
       "<table border=\"1\" class=\"dataframe\">\n",
       "  <thead>\n",
       "    <tr style=\"text-align: right;\">\n",
       "      <th></th>\n",
       "      <th>accuracy</th>\n",
       "    </tr>\n",
       "    <tr>\n",
       "      <th>model_name</th>\n",
       "      <th></th>\n",
       "    </tr>\n",
       "  </thead>\n",
       "  <tbody>\n",
       "    <tr>\n",
       "      <th>LinearSVC</th>\n",
       "      <td>0.866992</td>\n",
       "    </tr>\n",
       "    <tr>\n",
       "      <th>LogisticRegression</th>\n",
       "      <td>0.850457</td>\n",
       "    </tr>\n",
       "    <tr>\n",
       "      <th>MultinomialNB</th>\n",
       "      <td>0.736394</td>\n",
       "    </tr>\n",
       "  </tbody>\n",
       "</table>\n",
       "</div>"
      ],
      "text/plain": [
       "                    accuracy\n",
       "model_name                  \n",
       "LinearSVC           0.866992\n",
       "LogisticRegression  0.850457\n",
       "MultinomialNB       0.736394"
      ]
     },
     "execution_count": 9,
     "metadata": {},
     "output_type": "execute_result"
    }
   ],
   "source": [
    "pd.DataFrame(cv_df.groupby('model_name').accuracy.mean())"
   ]
  },
  {
   "cell_type": "code",
   "execution_count": 10,
   "metadata": {},
   "outputs": [
    {
     "name": "stdout",
     "output_type": "stream",
     "text": [
      "(4306, 5145) (1077, 5145) (4306,) (1077,)\n"
     ]
    },
    {
     "data": {
      "text/plain": [
       "Text(0.5, 69.0, 'Predicted')"
      ]
     },
     "execution_count": 10,
     "metadata": {},
     "output_type": "execute_result"
    },
    {
     "data": {
      "image/png": "[encoded data removed]",
      "text/plain": [
       "<Figure size 720x720 with 2 Axes>"
      ]
     },
     "metadata": {
      "needs_background": "light"
     },
     "output_type": "display_data"
    }
   ],
   "source": [
    "model = MultinomialNB()\n",
    "X_train, X_test, y_train, y_test, indices_train, indices_test =train_test_split(features, \n",
    "                                            labels,df.index ,\n",
    "                                            test_size=0.2, random_state=0)\n",
    "print(X_train.shape, X_test.shape, y_train.shape, y_test.shape)\n",
    "model.fit(X_train, y_train)\n",
    "y_pred = model.predict(X_test)\n",
    "conf_mat = confusion_matrix(y_test, y_pred)\n",
    "fig, ax = plt.subplots(figsize=(10,10))\n",
    "#rename=['Circuit','Mechanical','Calibration','Power','Software']\n",
    "sns.heatmap(conf_mat, annot=True, fmt='d',\n",
    "            xticklabels=category_id_df.Device_Problems.values, yticklabels=category_id_df.Device_Problems.values)\n",
    "plt.ylabel('Actual')\n",
    "plt.xlabel('Predicted')"
   ]
  },
  {
   "cell_type": "code",
   "execution_count": 11,
   "metadata": {},
   "outputs": [
    {
     "name": "stdout",
     "output_type": "stream",
     "text": [
      "accuracy 0.7195914577530177\n",
      "              precision    recall  f1-score   support\n",
      "\n",
      "           0       0.77      0.87      0.82       379\n",
      "           1       0.67      0.95      0.79       237\n",
      "           2       0.67      0.53      0.59       315\n",
      "           3       0.80      0.41      0.54       127\n",
      "           4       0.00      0.00      0.00        19\n",
      "\n",
      "    accuracy                           0.72      1077\n",
      "   macro avg       0.58      0.55      0.55      1077\n",
      "weighted avg       0.71      0.72      0.70      1077\n",
      "\n"
     ]
    },
    {
     "name": "stderr",
     "output_type": "stream",
     "text": [
      "C:\\Users\\User\\anaconda3\\lib\\site-packages\\sklearn\\metrics\\_classification.py:1221: UndefinedMetricWarning: Precision and F-score are ill-defined and being set to 0.0 in labels with no predicted samples. Use `zero_division` parameter to control this behavior.\n",
      "  _warn_prf(average, modifier, msg_start, len(result))\n"
     ]
    }
   ],
   "source": [
    "from sklearn.metrics import accuracy_score,classification_report\n",
    "print('accuracy %s' % accuracy_score(y_pred, y_test))\n",
    "print(classification_report(y_test, y_pred))"
   ]
  },
  {
   "cell_type": "code",
   "execution_count": 12,
   "metadata": {},
   "outputs": [
    {
     "name": "stdout",
     "output_type": "stream",
     "text": [
      "(4306, 5145) (1077, 5145) (4306,) (1077,)\n"
     ]
    },
    {
     "data": {
      "text/plain": [
       "Text(0.5, 69.0, 'Predicted')"
      ]
     },
     "execution_count": 12,
     "metadata": {},
     "output_type": "execute_result"
    },
    {
     "data": {
      "image/png": "[encoded data removed]",
      "text/plain": [
       "<Figure size 720x720 with 2 Axes>"
      ]
     },
     "metadata": {
      "needs_background": "light"
     },
     "output_type": "display_data"
    }
   ],
   "source": [
    "model = LogisticRegression(random_state=0)\n",
    "X_train, X_test, y_train, y_test, indices_train, indices_test =train_test_split(features, \n",
    "                                            labels,df.index ,\n",
    "                                            test_size=0.2, random_state=0)\n",
    "print(X_train.shape, X_test.shape, y_train.shape, y_test.shape)\n",
    "model.fit(X_train, y_train)\n",
    "y_pred = model.predict(X_test)\n",
    "conf_mat = confusion_matrix(y_test, y_pred)\n",
    "fig, ax = plt.subplots(figsize=(10,10))\n",
    "#rename=['Circuit','Mechanical','Calibration','Power','Software']\n",
    "sns.heatmap(conf_mat, annot=True, fmt='d',\n",
    "            xticklabels=category_id_df.Device_Problems.values, yticklabels=category_id_df.Device_Problems.values)\n",
    "plt.ylabel('Actual')\n",
    "plt.xlabel('Predicted')"
   ]
  },
  {
   "cell_type": "code",
   "execution_count": 13,
   "metadata": {},
   "outputs": [
    {
     "name": "stdout",
     "output_type": "stream",
     "text": [
      "accuracy 0.8375116063138347\n",
      "              precision    recall  f1-score   support\n",
      "\n",
      "           0       0.84      0.95      0.89       379\n",
      "           1       0.88      0.92      0.90       237\n",
      "           2       0.77      0.71      0.74       315\n",
      "           3       0.93      0.75      0.83       127\n",
      "           4       0.78      0.37      0.50        19\n",
      "\n",
      "    accuracy                           0.84      1077\n",
      "   macro avg       0.84      0.74      0.77      1077\n",
      "weighted avg       0.84      0.84      0.83      1077\n",
      "\n"
     ]
    }
   ],
   "source": [
    "from sklearn.metrics import accuracy_score,classification_report\n",
    "print('accuracy %s' % accuracy_score(y_pred, y_test))\n",
    "print(classification_report(y_test, y_pred))"
   ]
  },
  {
   "cell_type": "code",
   "execution_count": 14,
   "metadata": {},
   "outputs": [
    {
     "name": "stdout",
     "output_type": "stream",
     "text": [
      "(4306, 5145) (1077, 5145) (4306,) (1077,)\n"
     ]
    },
    {
     "data": {
      "text/plain": [
       "Text(0.5, 69.0, 'Predicted')"
      ]
     },
     "execution_count": 14,
     "metadata": {},
     "output_type": "execute_result"
    },
    {
     "data": {
      "image/png": "[encoded data removed]",
      "text/plain": [
       "<Figure size 720x720 with 2 Axes>"
      ]
     },
     "metadata": {
      "needs_background": "light"
     },
     "output_type": "display_data"
    }
   ],
   "source": [
    "model = LinearSVC()\n",
    "X_train, X_test, y_train, y_test, indices_train, indices_test =train_test_split(features, \n",
    "                                            labels,df.index ,\n",
    "                                            test_size=0.2, random_state=0)\n",
    "print(X_train.shape, X_test.shape, y_train.shape, y_test.shape)\n",
    "model.fit(X_train, y_train)\n",
    "y_pred = model.predict(X_test)\n",
    "conf_mat = confusion_matrix(y_test, y_pred)\n",
    "fig, ax = plt.subplots(figsize=(10,10))\n",
    "#rename=['Circuit','Mechanical','Calibration','Power','Software']\n",
    "sns.heatmap(conf_mat, annot=True, fmt='d',\n",
    "            xticklabels=category_id_df.Device_Problems.values, yticklabels=category_id_df.Device_Problems.values)\n",
    "plt.ylabel('Actual')\n",
    "plt.xlabel('Predicted')"
   ]
  },
  {
   "cell_type": "code",
   "execution_count": 15,
   "metadata": {},
   "outputs": [
    {
     "name": "stdout",
     "output_type": "stream",
     "text": [
      "(4306, 5145) (1077, 5145) (4306,) (1077,)\n",
      "[1]\n"
     ]
    },
    {
     "data": {
      "image/png": "[encoded data removed]",
      "text/plain": [
       "<Figure size 720x720 with 2 Axes>"
      ]
     },
     "metadata": {
      "needs_background": "light"
     },
     "output_type": "display_data"
    }
   ],
   "source": [
    "model = LinearSVC()\n",
    "X_train, X_test, y_train, y_test, indices_train, indices_test =train_test_split(features, \n",
    "                                            labels,df.index ,\n",
    "                                            test_size=0.2, random_state=0)\n",
    "print(X_train.shape, X_test.shape, y_train.shape, y_test.shape)\n",
    "model.fit(X_train, y_train)\n",
    "y_pred = model.predict(X_test)\n",
    "conf_mat = confusion_matrix(y_test, y_pred)\n",
    "fig, ax = plt.subplots(figsize=(10,10))\n",
    "#rename=['Circuit','Power','Calibration','Mechanical','Software']\n",
    "sns.heatmap(conf_mat, annot=True, fmt='d',\n",
    "            xticklabels=category_id_df.Device_Problems.values, yticklabels=category_id_df.Device_Problems.values)\n",
    "plt.ylabel('Actual')\n",
    "plt.xlabel('Predicted')\n",
    "print(model.predict(tfidf.transform([\"It was reported to resmed that an astral device failed to complete its \\\n",
    "internal self-test. There was no patient harm or serious injury reported as a result of this incident.The device was \\\n",
    "returned to resmed and an evaluation confirmed the complaint. The non-return valve (nrv) assembly was replaced to \\\n",
    "address this issue. The device was serviced and fully tested before it was returned to the customer. Resmeds risk\\\n",
    "analysis for this failure mode concludes that the risk is acceptable. (b)(4).\"])))"
   ]
  },
  {
   "cell_type": "code",
   "execution_count": 16,
   "metadata": {},
   "outputs": [
    {
     "name": "stdout",
     "output_type": "stream",
     "text": [
      "accuracy 0.8542246982358404\n",
      "              precision    recall  f1-score   support\n",
      "\n",
      "           0       0.86      0.96      0.90       379\n",
      "           1       0.89      0.89      0.89       237\n",
      "           2       0.81      0.74      0.77       315\n",
      "           3       0.89      0.81      0.85       127\n",
      "           4       0.82      0.47      0.60        19\n",
      "\n",
      "    accuracy                           0.85      1077\n",
      "   macro avg       0.85      0.78      0.80      1077\n",
      "weighted avg       0.85      0.85      0.85      1077\n",
      "\n"
     ]
    }
   ],
   "source": [
    "from sklearn.metrics import accuracy_score,classification_report\n",
    "print('accuracy %s' % accuracy_score(y_pred, y_test))\n",
    "print(classification_report(y_test, y_pred))"
   ]
  }
 ],
 "metadata": {
  "kernelspec": {
   "display_name": "Python 3",
   "language": "python",
   "name": "python3"
  },
  "language_info": {
   "codemirror_mode": {
    "name": "ipython",
    "version": 3
   },
   "file_extension": ".py",
   "mimetype": "text/x-python",
   "name": "python",
   "nbconvert_exporter": "python",
   "pygments_lexer": "ipython3",
   "version": "3.8.5"
  }
 },
 "nbformat": 4,
 "nbformat_minor": 4
}
