{
 "cells": [
  {
   "cell_type": "code",
   "execution_count": 1,
   "metadata": {},
   "outputs": [],
   "source": [
    "from sklearn.feature_extraction.text import CountVectorizer\n",
    "from collections import Counter\n",
    "import matplotlib.pyplot as plt\n",
    "import seaborn as sns\n",
    "import pandas as pd\n",
    "import numpy as np\n",
    "import itertools\n",
    "import string\n",
    "import io\n",
    "import re"
   ]
  },
  {
   "cell_type": "code",
   "execution_count": 2,
   "metadata": {},
   "outputs": [],
   "source": [
    "pd.options.display.max_colwidth=500\n",
    "data = pd.read_csv ('CBKmdr2020.csv')\n",
    "df = pd.DataFrame(data)"
   ]
  },
  {
   "cell_type": "code",
   "execution_count": 3,
   "metadata": {},
   "outputs": [],
   "source": [
    "col = ['Device_Problems', 'Event_description','Narrative']\n",
    "df = df[col]"
   ]
  },
  {
   "cell_type": "code",
   "execution_count": 4,
   "metadata": {},
   "outputs": [
    {
     "name": "stdout",
     "output_type": "stream",
     "text": [
      "<class 'pandas.core.frame.DataFrame'>\n",
      "RangeIndex: 11083 entries, 0 to 11082\n",
      "Data columns (total 3 columns):\n",
      " #   Column             Non-Null Count  Dtype \n",
      "---  ------             --------------  ----- \n",
      " 0   Device_Problems    11079 non-null  object\n",
      " 1   Event_description  11076 non-null  object\n",
      " 2   Narrative          6923 non-null   object\n",
      "dtypes: object(3)\n",
      "memory usage: 259.9+ KB\n"
     ]
    }
   ],
   "source": [
    "df.info()"
   ]
  },
  {
   "cell_type": "code",
   "execution_count": 5,
   "metadata": {},
   "outputs": [
    {
     "data": {
      "text/html": [
       "<div>\n",
       "<style scoped>\n",
       "    .dataframe tbody tr th:only-of-type {\n",
       "        vertical-align: middle;\n",
       "    }\n",
       "\n",
       "    .dataframe tbody tr th {\n",
       "        vertical-align: top;\n",
       "    }\n",
       "\n",
       "    .dataframe thead th {\n",
       "        text-align: right;\n",
       "    }\n",
       "</style>\n",
       "<table border=\"1\" class=\"dataframe\">\n",
       "  <thead>\n",
       "    <tr style=\"text-align: right;\">\n",
       "      <th></th>\n",
       "      <th>Device_Problems</th>\n",
       "      <th>Event_description</th>\n",
       "      <th>Narrative</th>\n",
       "    </tr>\n",
       "  </thead>\n",
       "  <tbody>\n",
       "    <tr>\n",
       "      <th>0</th>\n",
       "      <td>Inappropriate or Unexpected Reset (2959)</td>\n",
       "      <td>The hospital reported that the unit would restart on its own. There was no report of patient involvement.</td>\n",
       "      <td>The switching board and power supply board were replaced to resolve the reported issue. No report of patient involvement. Date of device manufacture was unavailable at time of mdr filing.</td>\n",
       "    </tr>\n",
       "    <tr>\n",
       "      <th>1</th>\n",
       "      <td>Failure to Calibrate (2440)</td>\n",
       "      <td>It was reported to resmed that an astral device failed to complete its internal self-test. There was no patient harm or serious injury reported as a result of this incident.</td>\n",
       "      <td>The device was returned to resmed and an evaluation confirmed the complaint. The non-return valve (nrv) assembly was replaced to address this issue. The device was serviced and fully tested before it was returned to the customer. Resmed's risk analysis for this failure mode concludes that the risk is acceptable. Resmed reference #: (b)(4).</td>\n",
       "    </tr>\n",
       "    <tr>\n",
       "      <th>2</th>\n",
       "      <td>Failure to Calibrate (2440)</td>\n",
       "      <td>It was reported to resmed that an astral device failed to complete its internal self-test. There was no patient harm or serious injury reported as a result of this incident.</td>\n",
       "      <td>The device was returned to resmed and an evaluation confirmed the complaint. The non-return valve (nrv) assembly was replaced to address this issue. The device was serviced and fully tested before it was returned to the customer. Resmed's risk analysis for this failure mode concludes that the risk is acceptable. (b)(4).</td>\n",
       "    </tr>\n",
       "    <tr>\n",
       "      <th>3</th>\n",
       "      <td>Failure to Charge (1085)</td>\n",
       "      <td>It was reported to resmed that an astral device failed to charge. There was no patient harm or serious injury reported as a result of this incident.</td>\n",
       "      <td>The device was returned to an authorized resmed third party service center for an evaluation and service. The customer was issued with a replacement main circuit board as part of a warranty claim. Resmed's risk analysis for these failure modes concludes that the risk is acceptable. (b)(4).</td>\n",
       "    </tr>\n",
       "    <tr>\n",
       "      <th>4</th>\n",
       "      <td>Failure to Charge (1085)</td>\n",
       "      <td>It was reported to resmed that an astral device failed to charge. There was no patient harm or serious injury reported as a result of this incident.</td>\n",
       "      <td>The device was returned to an authorized resmed third party service center for an evaluation and service. The customer was issued with a replacement main circuit board as part of a warranty claim. Resmed's risk analysis for these failure modes concludes that the risk is acceptable. Resmed reference #: (b)(4).</td>\n",
       "    </tr>\n",
       "  </tbody>\n",
       "</table>\n",
       "</div>"
      ],
      "text/plain": [
       "                            Device_Problems  \\\n",
       "0  Inappropriate or Unexpected Reset (2959)   \n",
       "1               Failure to Calibrate (2440)   \n",
       "2               Failure to Calibrate (2440)   \n",
       "3                  Failure to Charge (1085)   \n",
       "4                  Failure to Charge (1085)   \n",
       "\n",
       "                                                                                                                                                               Event_description  \\\n",
       "0                                                                      The hospital reported that the unit would restart on its own. There was no report of patient involvement.   \n",
       "1  It was reported to resmed that an astral device failed to complete its internal self-test. There was no patient harm or serious injury reported as a result of this incident.   \n",
       "2  It was reported to resmed that an astral device failed to complete its internal self-test. There was no patient harm or serious injury reported as a result of this incident.   \n",
       "3                           It was reported to resmed that an astral device failed to charge. There was no patient harm or serious injury reported as a result of this incident.   \n",
       "4                           It was reported to resmed that an astral device failed to charge. There was no patient harm or serious injury reported as a result of this incident.   \n",
       "\n",
       "                                                                                                                                                                                                                                                                                                                                               Narrative  \n",
       "0                                                                                                                                                            The switching board and power supply board were replaced to resolve the reported issue. No report of patient involvement. Date of device manufacture was unavailable at time of mdr filing.  \n",
       "1  The device was returned to resmed and an evaluation confirmed the complaint. The non-return valve (nrv) assembly was replaced to address this issue. The device was serviced and fully tested before it was returned to the customer. Resmed's risk analysis for this failure mode concludes that the risk is acceptable. Resmed reference #: (b)(4).  \n",
       "2                      The device was returned to resmed and an evaluation confirmed the complaint. The non-return valve (nrv) assembly was replaced to address this issue. The device was serviced and fully tested before it was returned to the customer. Resmed's risk analysis for this failure mode concludes that the risk is acceptable. (b)(4).  \n",
       "3                                                     The device was returned to an authorized resmed third party service center for an evaluation and service. The customer was issued with a replacement main circuit board as part of a warranty claim. Resmed's risk analysis for these failure modes concludes that the risk is acceptable. (b)(4).  \n",
       "4                                 The device was returned to an authorized resmed third party service center for an evaluation and service. The customer was issued with a replacement main circuit board as part of a warranty claim. Resmed's risk analysis for these failure modes concludes that the risk is acceptable. Resmed reference #: (b)(4).  "
      ]
     },
     "execution_count": 5,
     "metadata": {},
     "output_type": "execute_result"
    }
   ],
   "source": [
    "df.head()"
   ]
  },
  {
   "cell_type": "code",
   "execution_count": 6,
   "metadata": {},
   "outputs": [
    {
     "name": "stdout",
     "output_type": "stream",
     "text": [
      "Num_D_problems: 745\n"
     ]
    },
    {
     "data": {
      "text/html": [
       "<div>\n",
       "<style scoped>\n",
       "    .dataframe tbody tr th:only-of-type {\n",
       "        vertical-align: middle;\n",
       "    }\n",
       "\n",
       "    .dataframe tbody tr th {\n",
       "        vertical-align: top;\n",
       "    }\n",
       "\n",
       "    .dataframe thead th {\n",
       "        text-align: right;\n",
       "    }\n",
       "</style>\n",
       "<table border=\"1\" class=\"dataframe\">\n",
       "  <thead>\n",
       "    <tr style=\"text-align: right;\">\n",
       "      <th></th>\n",
       "      <th>Device_Problems</th>\n",
       "    </tr>\n",
       "  </thead>\n",
       "  <tbody>\n",
       "    <tr>\n",
       "      <th>Mechanical Problem (1384)</th>\n",
       "      <td>2036</td>\n",
       "    </tr>\n",
       "    <tr>\n",
       "      <th>Output Problem (3005)</th>\n",
       "      <td>738</td>\n",
       "    </tr>\n",
       "    <tr>\n",
       "      <th>Circuit Failure (1089)</th>\n",
       "      <td>698</td>\n",
       "    </tr>\n",
       "    <tr>\n",
       "      <th>Failure to Recalibrate (1517)</th>\n",
       "      <td>605</td>\n",
       "    </tr>\n",
       "    <tr>\n",
       "      <th>Failure of Device to Self-Test (2937)</th>\n",
       "      <td>429</td>\n",
       "    </tr>\n",
       "    <tr>\n",
       "      <th>...</th>\n",
       "      <td>...</td>\n",
       "    </tr>\n",
       "    <tr>\n",
       "      <th>Power Problem (3010); Therapeutic or Diagnostic Output Failure (3023)</th>\n",
       "      <td>1</td>\n",
       "    </tr>\n",
       "    <tr>\n",
       "      <th>Electrical /Electronic Property Problem (1198); Application Program Problem (2880)</th>\n",
       "      <td>1</td>\n",
       "    </tr>\n",
       "    <tr>\n",
       "      <th>Leak/Splash (1354); Infusion or Flow Problem (2964)</th>\n",
       "      <td>1</td>\n",
       "    </tr>\n",
       "    <tr>\n",
       "      <th>Use of Device Problem (1670); Improper Flow or Infusion (2954)</th>\n",
       "      <td>1</td>\n",
       "    </tr>\n",
       "    <tr>\n",
       "      <th>Leak/Splash (1354); Noise, Audible (3273)</th>\n",
       "      <td>1</td>\n",
       "    </tr>\n",
       "  </tbody>\n",
       "</table>\n",
       "<p>745 rows × 1 columns</p>\n",
       "</div>"
      ],
      "text/plain": [
       "                                                                                    Device_Problems\n",
       "Mechanical Problem (1384)                                                                      2036\n",
       "Output Problem (3005)                                                                           738\n",
       "Circuit Failure (1089)                                                                          698\n",
       "Failure to Recalibrate (1517)                                                                   605\n",
       "Failure of Device to Self-Test (2937)                                                           429\n",
       "...                                                                                             ...\n",
       "Power Problem (3010); Therapeutic or Diagnostic Output Failure (3023)                             1\n",
       "Electrical /Electronic Property Problem (1198); Application Program Problem (2880)                1\n",
       "Leak/Splash (1354); Infusion or Flow Problem (2964)                                               1\n",
       "Use of Device Problem (1670); Improper Flow or Infusion (2954)                                    1\n",
       "Leak/Splash (1354); Noise, Audible (3273)                                                         1\n",
       "\n",
       "[745 rows x 1 columns]"
      ]
     },
     "execution_count": 6,
     "metadata": {},
     "output_type": "execute_result"
    }
   ],
   "source": [
    "print('Num_D_problems:',len(pd.DataFrame(df.Device_Problems.value_counts())))\n",
    "pd.DataFrame(df.Device_Problems.value_counts())"
   ]
  },
  {
   "cell_type": "code",
   "execution_count": 7,
   "metadata": {},
   "outputs": [],
   "source": [
    "re_Parenthesis_list =[\"Device_Problems\"]\n",
    "re_Apostrophe_list =[\"Event_description\",\"Narrative\"]\n",
    "strip_list =[\"Device_Problems\"]\n",
    "# regex to remove the Parenthesis \n",
    "for i in range(0, len(re_Parenthesis_list)):\n",
    "    df[re_Parenthesis_list[i]] = df[re_Parenthesis_list[i]].replace({'\\([^()]*\\)':''}, regex=True)\n",
    "    df[re_Parenthesis_list[i]] = df[re_Parenthesis_list[i]].str.lower()\n",
    "# regex to remove the Apostrophe\n",
    "for i in range(0, len(re_Apostrophe_list)):\n",
    "    df[re_Apostrophe_list[i]] = df[re_Apostrophe_list[i]].replace({'(?<=[a-z])\\'(?=[a-z])':''}, regex=True)\n",
    "#To remove white space at both ends\n",
    "for i in range(0, len(strip_list)):\n",
    "    df[strip_list[i]]= df[strip_list[i]].str.strip()"
   ]
  },
  {
   "cell_type": "code",
   "execution_count": 8,
   "metadata": {},
   "outputs": [
    {
     "name": "stdout",
     "output_type": "stream",
     "text": [
      "Num_D_problems: 745\n"
     ]
    },
    {
     "data": {
      "text/html": [
       "<div>\n",
       "<style scoped>\n",
       "    .dataframe tbody tr th:only-of-type {\n",
       "        vertical-align: middle;\n",
       "    }\n",
       "\n",
       "    .dataframe tbody tr th {\n",
       "        vertical-align: top;\n",
       "    }\n",
       "\n",
       "    .dataframe thead th {\n",
       "        text-align: right;\n",
       "    }\n",
       "</style>\n",
       "<table border=\"1\" class=\"dataframe\">\n",
       "  <thead>\n",
       "    <tr style=\"text-align: right;\">\n",
       "      <th></th>\n",
       "      <th>Device_Problems</th>\n",
       "    </tr>\n",
       "  </thead>\n",
       "  <tbody>\n",
       "    <tr>\n",
       "      <th>mechanical problem</th>\n",
       "      <td>2036</td>\n",
       "    </tr>\n",
       "    <tr>\n",
       "      <th>output problem</th>\n",
       "      <td>738</td>\n",
       "    </tr>\n",
       "    <tr>\n",
       "      <th>circuit failure</th>\n",
       "      <td>698</td>\n",
       "    </tr>\n",
       "    <tr>\n",
       "      <th>failure to recalibrate</th>\n",
       "      <td>605</td>\n",
       "    </tr>\n",
       "    <tr>\n",
       "      <th>failure of device to self-test</th>\n",
       "      <td>429</td>\n",
       "    </tr>\n",
       "    <tr>\n",
       "      <th>...</th>\n",
       "      <td>...</td>\n",
       "    </tr>\n",
       "    <tr>\n",
       "      <th>failure to sense</th>\n",
       "      <td>1</td>\n",
       "    </tr>\n",
       "    <tr>\n",
       "      <th>thermal decomposition of device ; no display/image ; failure to power up</th>\n",
       "      <td>1</td>\n",
       "    </tr>\n",
       "    <tr>\n",
       "      <th>computer software problem ; insufficient information</th>\n",
       "      <td>1</td>\n",
       "    </tr>\n",
       "    <tr>\n",
       "      <th>failure to charge ; circuit failure ; failure to recalibrate ; battery problem</th>\n",
       "      <td>1</td>\n",
       "    </tr>\n",
       "    <tr>\n",
       "      <th>device alarm system ; defective device</th>\n",
       "      <td>1</td>\n",
       "    </tr>\n",
       "  </tbody>\n",
       "</table>\n",
       "<p>745 rows × 1 columns</p>\n",
       "</div>"
      ],
      "text/plain": [
       "                                                                                Device_Problems\n",
       "mechanical problem                                                                         2036\n",
       "output problem                                                                              738\n",
       "circuit failure                                                                             698\n",
       "failure to recalibrate                                                                      605\n",
       "failure of device to self-test                                                              429\n",
       "...                                                                                         ...\n",
       "failure to sense                                                                              1\n",
       "thermal decomposition of device ; no display/image ; failure to power up                      1\n",
       "computer software problem ; insufficient information                                          1\n",
       "failure to charge ; circuit failure ; failure to recalibrate ; battery problem                1\n",
       "device alarm system ; defective device                                                        1\n",
       "\n",
       "[745 rows x 1 columns]"
      ]
     },
     "execution_count": 8,
     "metadata": {},
     "output_type": "execute_result"
    }
   ],
   "source": [
    "print('Num_D_problems:',len(pd.DataFrame(df.Device_Problems.value_counts())))\n",
    "pd.DataFrame(df.Device_Problems.value_counts())"
   ]
  },
  {
   "cell_type": "code",
   "execution_count": 9,
   "metadata": {},
   "outputs": [
    {
     "data": {
      "text/html": [
       "<div>\n",
       "<style scoped>\n",
       "    .dataframe tbody tr th:only-of-type {\n",
       "        vertical-align: middle;\n",
       "    }\n",
       "\n",
       "    .dataframe tbody tr th {\n",
       "        vertical-align: top;\n",
       "    }\n",
       "\n",
       "    .dataframe thead th {\n",
       "        text-align: right;\n",
       "    }\n",
       "</style>\n",
       "<table border=\"1\" class=\"dataframe\">\n",
       "  <thead>\n",
       "    <tr style=\"text-align: right;\">\n",
       "      <th></th>\n",
       "      <th>Device_Problems</th>\n",
       "      <th>Event_description</th>\n",
       "      <th>Narrative</th>\n",
       "    </tr>\n",
       "  </thead>\n",
       "  <tbody>\n",
       "    <tr>\n",
       "      <th>0</th>\n",
       "      <td>inappropriate or unexpected reset</td>\n",
       "      <td>The hospital reported that the unit would restart on its own. There was no report of patient involvement.</td>\n",
       "      <td>The switching board and power supply board were replaced to resolve the reported issue. No report of patient involvement. Date of device manufacture was unavailable at time of mdr filing.</td>\n",
       "    </tr>\n",
       "    <tr>\n",
       "      <th>1</th>\n",
       "      <td>failure to calibrate</td>\n",
       "      <td>It was reported to resmed that an astral device failed to complete its internal self-test. There was no patient harm or serious injury reported as a result of this incident.</td>\n",
       "      <td>The device was returned to resmed and an evaluation confirmed the complaint. The non-return valve (nrv) assembly was replaced to address this issue. The device was serviced and fully tested before it was returned to the customer. Resmeds risk analysis for this failure mode concludes that the risk is acceptable. Resmed reference #: (b)(4).</td>\n",
       "    </tr>\n",
       "    <tr>\n",
       "      <th>2</th>\n",
       "      <td>failure to calibrate</td>\n",
       "      <td>It was reported to resmed that an astral device failed to complete its internal self-test. There was no patient harm or serious injury reported as a result of this incident.</td>\n",
       "      <td>The device was returned to resmed and an evaluation confirmed the complaint. The non-return valve (nrv) assembly was replaced to address this issue. The device was serviced and fully tested before it was returned to the customer. Resmeds risk analysis for this failure mode concludes that the risk is acceptable. (b)(4).</td>\n",
       "    </tr>\n",
       "    <tr>\n",
       "      <th>3</th>\n",
       "      <td>failure to charge</td>\n",
       "      <td>It was reported to resmed that an astral device failed to charge. There was no patient harm or serious injury reported as a result of this incident.</td>\n",
       "      <td>The device was returned to an authorized resmed third party service center for an evaluation and service. The customer was issued with a replacement main circuit board as part of a warranty claim. Resmeds risk analysis for these failure modes concludes that the risk is acceptable. (b)(4).</td>\n",
       "    </tr>\n",
       "    <tr>\n",
       "      <th>4</th>\n",
       "      <td>failure to charge</td>\n",
       "      <td>It was reported to resmed that an astral device failed to charge. There was no patient harm or serious injury reported as a result of this incident.</td>\n",
       "      <td>The device was returned to an authorized resmed third party service center for an evaluation and service. The customer was issued with a replacement main circuit board as part of a warranty claim. Resmeds risk analysis for these failure modes concludes that the risk is acceptable. Resmed reference #: (b)(4).</td>\n",
       "    </tr>\n",
       "  </tbody>\n",
       "</table>\n",
       "</div>"
      ],
      "text/plain": [
       "                     Device_Problems  \\\n",
       "0  inappropriate or unexpected reset   \n",
       "1               failure to calibrate   \n",
       "2               failure to calibrate   \n",
       "3                  failure to charge   \n",
       "4                  failure to charge   \n",
       "\n",
       "                                                                                                                                                               Event_description  \\\n",
       "0                                                                      The hospital reported that the unit would restart on its own. There was no report of patient involvement.   \n",
       "1  It was reported to resmed that an astral device failed to complete its internal self-test. There was no patient harm or serious injury reported as a result of this incident.   \n",
       "2  It was reported to resmed that an astral device failed to complete its internal self-test. There was no patient harm or serious injury reported as a result of this incident.   \n",
       "3                           It was reported to resmed that an astral device failed to charge. There was no patient harm or serious injury reported as a result of this incident.   \n",
       "4                           It was reported to resmed that an astral device failed to charge. There was no patient harm or serious injury reported as a result of this incident.   \n",
       "\n",
       "                                                                                                                                                                                                                                                                                                                                              Narrative  \n",
       "0                                                                                                                                                           The switching board and power supply board were replaced to resolve the reported issue. No report of patient involvement. Date of device manufacture was unavailable at time of mdr filing.  \n",
       "1  The device was returned to resmed and an evaluation confirmed the complaint. The non-return valve (nrv) assembly was replaced to address this issue. The device was serviced and fully tested before it was returned to the customer. Resmeds risk analysis for this failure mode concludes that the risk is acceptable. Resmed reference #: (b)(4).  \n",
       "2                      The device was returned to resmed and an evaluation confirmed the complaint. The non-return valve (nrv) assembly was replaced to address this issue. The device was serviced and fully tested before it was returned to the customer. Resmeds risk analysis for this failure mode concludes that the risk is acceptable. (b)(4).  \n",
       "3                                                     The device was returned to an authorized resmed third party service center for an evaluation and service. The customer was issued with a replacement main circuit board as part of a warranty claim. Resmeds risk analysis for these failure modes concludes that the risk is acceptable. (b)(4).  \n",
       "4                                 The device was returned to an authorized resmed third party service center for an evaluation and service. The customer was issued with a replacement main circuit board as part of a warranty claim. Resmeds risk analysis for these failure modes concludes that the risk is acceptable. Resmed reference #: (b)(4).  "
      ]
     },
     "execution_count": 9,
     "metadata": {},
     "output_type": "execute_result"
    }
   ],
   "source": [
    "df.head()"
   ]
  },
  {
   "cell_type": "code",
   "execution_count": 10,
   "metadata": {},
   "outputs": [],
   "source": [
    "Calibration_Problems=['failure of device to self-test','Failure to calibrate','Calibration Problem',\n",
    "                      'failure to calibrate ; battery problem',\n",
    "                      'Protective Measures Problem','failure to recalibrate',\n",
    "                      'Failure to device to self-test','Failure to Read Input Signal','Volume Accuracy Problem',\n",
    "                     'Failure to Align']\n",
    "Software_Problems=['computer software','device displays incorrect message ; unexpected shutdown',\n",
    "                   'computer software problem',\n",
    "                   'Inadequate user interface','computer operating system problem',\n",
    "                  'Application Program Problem']\n",
    "\n",
    "Power_Problems=['battery problem','failure to charge','battery problem ; protective measures problem ; unexpected shutdown',\n",
    "                'overheating of device ; battery problem','failure to power up',\n",
    "                'ailure to power up','premature discharge of battery','Loss of Power',\n",
    "                'Complete Loss Of Power','Failure to Run on Battery','Aborted Charge','power problem','charging problem']\n",
    "                \n",
    "\n",
    "Mechanical_Problems=['Mechanical Problem','contamination ; mechanical problem','Detachment Of Device Or Device Component',\n",
    "                     'contamination ; mechanical problem',\n",
    "                     'Mechanical Problem','Mechanics Altered','Material Erosion',\n",
    "                     'mechanical problem ; failure to recalibrate',\n",
    "                     'gas output problem ; decreased pump speed ; failure to deliver ; no pressure',\n",
    "                     'mechanical problem ; failure of device to self-test',\n",
    "                     'Device Fell','Material Rupture','Inaccurate Delivery','Failure to Deliver','No flow',\n",
    "                     'Unintended Collision','Physical Resistance/Sticking','Obstruction of Flow','Failure to Cycle',\n",
    "                     'Insufficient Flow or Under Infusion']"
   ]
  },
  {
   "cell_type": "code",
   "execution_count": 11,
   "metadata": {},
   "outputs": [],
   "source": [
    "Circuit_failure=['output problem','communication or transmission problem','No display image','no display/image',\n",
    "                 'Erratic or intermittent display','Poor Quality Image',\n",
    "                 'Defective component','circuit failure','device displays incorrect message',\n",
    "                 'failure to charge ; circuit failure ; battery problem','no audible alarm'\n",
    "                 'failure to charge ; failure to recalibrate ; battery problem',\n",
    "                 'erratic or intermittent display ; device displays incorrect message',\n",
    "                 'thermal decomposition of device ; failure to power up ; battery problem','no flow ; output problem',\n",
    "                 'display or visual feedback problem ; improper flow or infusion',\n",
    "                 'incorrect, inadequate or imprecise resultor readings','use of device problem',\n",
    "                 'therapeutic or diagnostic output failure','no audible alarm', \n",
    "                'output problem','Incorrect, in adequate or imprecise resultor Reading','Device displays incorrect massage',\n",
    "                'Image Display Error/Artifact','Defective device','Unable to Obtain Readings',\n",
    "                 'Display or Visual Feedback Problem','Disconnection','Data Problem','Break',\n",
    "                 'erratic or intermittent display ; no flow',\n",
    "                 'Noise, Audible','Unexpected Shutdown','Device Alarm System','Protective Measures Problem',\n",
    "                 'Low Readings','Electro-Static Discharge','Component Missing','Electrical Shorting',\n",
    "                 'Tidal Volume Fluctuations','Smoking','Improper Flow or Infusion','No Tactile Prompts/Feedback',\n",
    "                 'Connection Problem','Leak/Splash','Display Difficult to Read','High Readings',\n",
    "                 'Inappropriate or Unexpected Reset','Appropriate Term/Code Not Available','Contamination',\n",
    "                 'Insufficient Information','Infusion or Flow Problem','Temperature Problem','Activation Problem',\n",
    "                 'Tactile Prompts/Feedback','Image Display Error/Artifact','Environmental Compatibility Problem']"
   ]
  },
  {
   "cell_type": "code",
   "execution_count": 12,
   "metadata": {},
   "outputs": [
    {
     "name": "stdout",
     "output_type": "stream",
     "text": [
      "[['failure of device to self-test', 'failure to calibrate', 'calibration problem', 'failure to calibrate ; battery problem', 'protective measures problem', 'failure to recalibrate', 'failure to device to self-test', 'failure to read input signal', 'volume accuracy problem', 'failure to align'], ['computer software', 'device displays incorrect message ; unexpected shutdown', 'computer software problem', 'inadequate user interface', 'computer operating system problem', 'application program problem'], ['output problem', 'communication or transmission problem', 'no display image', 'no display/image', 'erratic or intermittent display', 'poor quality image', 'defective component', 'circuit failure', 'device displays incorrect message', 'failure to charge ; circuit failure ; battery problem', 'no audible alarmfailure to charge ; failure to recalibrate ; battery problem', 'erratic or intermittent display ; device displays incorrect message', 'thermal decomposition of device ; failure to power up ; battery problem', 'no flow ; output problem', 'display or visual feedback problem ; improper flow or infusion', 'incorrect, inadequate or imprecise resultor readings', 'use of device problem', 'therapeutic or diagnostic output failure', 'no audible alarm', 'output problem', 'incorrect, in adequate or imprecise resultor reading', 'device displays incorrect massage', 'image display error/artifact', 'defective device', 'unable to obtain readings', 'display or visual feedback problem', 'disconnection', 'data problem', 'break', 'erratic or intermittent display ; no flow', 'noise, audible', 'unexpected shutdown', 'device alarm system', 'protective measures problem', 'low readings', 'electro-static discharge', 'component missing', 'electrical shorting', 'tidal volume fluctuations', 'smoking', 'improper flow or infusion', 'no tactile prompts/feedback', 'connection problem', 'leak/splash', 'display difficult to read', 'high readings', 'inappropriate or unexpected reset', 'appropriate term/code not available', 'contamination', 'insufficient information', 'infusion or flow problem', 'temperature problem', 'activation problem', 'tactile prompts/feedback', 'image display error/artifact', 'environmental compatibility problem'], ['battery problem', 'failure to charge', 'battery problem ; protective measures problem ; unexpected shutdown', 'overheating of device ; battery problem', 'failure to power up', 'ailure to power up', 'premature discharge of battery', 'loss of power', 'complete loss of power', 'failure to run on battery', 'aborted charge', 'power problem', 'charging problem'], ['mechanical problem', 'contamination ; mechanical problem', 'detachment of device or device component', 'contamination ; mechanical problem', 'mechanical problem', 'mechanics altered', 'material erosion', 'mechanical problem ; failure to recalibrate', 'gas output problem ; decreased pump speed ; failure to deliver ; no pressure', 'mechanical problem ; failure of device to self-test', 'device fell', 'material rupture', 'inaccurate delivery', 'failure to deliver', 'no flow', 'unintended collision', 'physical resistance/sticking', 'obstruction of flow', 'failure to cycle', 'insufficient flow or under infusion']]\n"
     ]
    }
   ],
   "source": [
    "red_DP_list=[Calibration_Problems,Software_Problems,Circuit_failure,Power_Problems,Mechanical_Problems]\n",
    "red_DP_list_lower=[Calibration_Problems,Software_Problems,Circuit_failure,Power_Problems,Mechanical_Problems]\n",
    "for i in range(0, len(red_DP_list)):\n",
    "    #df[strip_list[i]]= df[strip_list[i]].str.strip()\n",
    "    series=pd.Series(red_DP_list[i]).str.strip()\n",
    "    red_DP_list_lower[i] = list(series.str.lower()) \n",
    "    #red_DP_list_lower[i].str.strip()\n",
    "print(red_DP_list_lower)"
   ]
  },
  {
   "cell_type": "code",
   "execution_count": 13,
   "metadata": {},
   "outputs": [
    {
     "name": "stdout",
     "output_type": "stream",
     "text": [
      "Number_Of_Device_Problems = 660\n"
     ]
    },
    {
     "data": {
      "text/html": [
       "<div>\n",
       "<style scoped>\n",
       "    .dataframe tbody tr th:only-of-type {\n",
       "        vertical-align: middle;\n",
       "    }\n",
       "\n",
       "    .dataframe tbody tr th {\n",
       "        vertical-align: top;\n",
       "    }\n",
       "\n",
       "    .dataframe thead th {\n",
       "        text-align: right;\n",
       "    }\n",
       "</style>\n",
       "<table border=\"1\" class=\"dataframe\">\n",
       "  <thead>\n",
       "    <tr style=\"text-align: right;\">\n",
       "      <th></th>\n",
       "      <th>Device_Problems</th>\n",
       "    </tr>\n",
       "  </thead>\n",
       "  <tbody>\n",
       "    <tr>\n",
       "      <th>Circuit_failure</th>\n",
       "      <td>3450</td>\n",
       "    </tr>\n",
       "    <tr>\n",
       "      <th>Mechanical_Problems</th>\n",
       "      <td>2360</td>\n",
       "    </tr>\n",
       "    <tr>\n",
       "      <th>Calibration_Problems</th>\n",
       "      <td>1797</td>\n",
       "    </tr>\n",
       "    <tr>\n",
       "      <th>Power_Problems</th>\n",
       "      <td>831</td>\n",
       "    </tr>\n",
       "    <tr>\n",
       "      <th>Software_Problems</th>\n",
       "      <td>160</td>\n",
       "    </tr>\n",
       "    <tr>\n",
       "      <th>...</th>\n",
       "      <td>...</td>\n",
       "    </tr>\n",
       "    <tr>\n",
       "      <th>device displays incorrect message ; difficult to open or close</th>\n",
       "      <td>1</td>\n",
       "    </tr>\n",
       "    <tr>\n",
       "      <th>defective component ; protective measures problem</th>\n",
       "      <td>1</td>\n",
       "    </tr>\n",
       "    <tr>\n",
       "      <th>failure to charge ; contamination /decontamination problem ; no flow ; power problem</th>\n",
       "      <td>1</td>\n",
       "    </tr>\n",
       "    <tr>\n",
       "      <th>failure to charge ; mechanical problem</th>\n",
       "      <td>1</td>\n",
       "    </tr>\n",
       "    <tr>\n",
       "      <th>component missing ; battery problem ; charging problem</th>\n",
       "      <td>1</td>\n",
       "    </tr>\n",
       "  </tbody>\n",
       "</table>\n",
       "<p>660 rows × 1 columns</p>\n",
       "</div>"
      ],
      "text/plain": [
       "                                                                                      Device_Problems\n",
       "Circuit_failure                                                                                  3450\n",
       "Mechanical_Problems                                                                              2360\n",
       "Calibration_Problems                                                                             1797\n",
       "Power_Problems                                                                                    831\n",
       "Software_Problems                                                                                 160\n",
       "...                                                                                               ...\n",
       "device displays incorrect message ; difficult to open or close                                      1\n",
       "defective component ; protective measures problem                                                   1\n",
       "failure to charge ; contamination /decontamination problem ; no flow ; power problem                1\n",
       "failure to charge ; mechanical problem                                                              1\n",
       "component missing ; battery problem ; charging problem                                              1\n",
       "\n",
       "[660 rows x 1 columns]"
      ]
     },
     "execution_count": 13,
     "metadata": {},
     "output_type": "execute_result"
    }
   ],
   "source": [
    "df['Device_Problems']= df['Device_Problems'].str.strip()\n",
    "Names_red_DP_list=['Calibration_Problems','Software_Problems','Circuit_failure','Power_Problems','Mechanical_Problems']\n",
    "for i in range(0, len(red_DP_list_lower)):\n",
    "    df.Device_Problems= df.Device_Problems.replace(red_DP_list_lower[i],Names_red_DP_list[i])\n",
    "print('Number_Of_Device_Problems =',len(pd.DataFrame(df.Device_Problems.value_counts())))\n",
    "(pd.DataFrame(df.Device_Problems.value_counts()))"
   ]
  },
  {
   "cell_type": "code",
   "execution_count": 14,
   "metadata": {},
   "outputs": [
    {
     "name": "stdout",
     "output_type": "stream",
     "text": [
      "1186\n",
      "82\n",
      "1566\n",
      "612\n",
      "1937\n"
     ]
    }
   ],
   "source": [
    "Calibration_df=df.where(df['Device_Problems'] == 'Calibration_Problems').dropna()\n",
    "Software_df=df.where(df['Device_Problems'] == 'Software_Problems').dropna()\n",
    "Circuit_df=df.where(df['Device_Problems'] == 'Circuit_failure').dropna()\n",
    "Power_df=df.where(df['Device_Problems'] == 'Power_Problems').dropna()\n",
    "Mechanical_df=df.where(df['Device_Problems'] == 'Mechanical_Problems').dropna()\n",
    "frames = [Calibration_df,Software_df,Circuit_df,Power_df,Mechanical_df]\n",
    "for i in range(0, len(frames)):\n",
    "    print(len(frames[i]))"
   ]
  },
  {
   "cell_type": "code",
   "execution_count": 17,
   "metadata": {},
   "outputs": [
    {
     "name": "stdout",
     "output_type": "stream",
     "text": [
      "           Device_Problems  \\\n",
      "0     Calibration_Problems   \n",
      "1     Calibration_Problems   \n",
      "2     Calibration_Problems   \n",
      "3     Calibration_Problems   \n",
      "4     Calibration_Problems   \n",
      "...                    ...   \n",
      "5378   Mechanical_Problems   \n",
      "5379   Mechanical_Problems   \n",
      "5380   Mechanical_Problems   \n",
      "5381   Mechanical_Problems   \n",
      "5382   Mechanical_Problems   \n",
      "\n",
      "                                                                                                                                                                                                                                                           Event_description  \\\n",
      "0                                                                                              It was reported to resmed that an astral device failed to complete its internal self-test. There was no patient harm or serious injury reported as a result of this incident.   \n",
      "1                                                                                              It was reported to resmed that an astral device failed to complete its internal self-test. There was no patient harm or serious injury reported as a result of this incident.   \n",
      "2                                                                                              It was reported to resmed that an astral device failed to complete its internal self-test. There was no patient harm or serious injury reported as a result of this incident.   \n",
      "3                                                                                              It was reported to resmed that an astral device failed to complete its internal self-test. There was no patient harm or serious injury reported as a result of this incident.   \n",
      "4                                              It was reported to resmed that an astral device displayed an internal battery error message and failed to complete its internal self test. There was no patient harm or serious injury reported as a result of this incident.   \n",
      "...                                                                                                                                                                                                                                                                      ...   \n",
      "5378                                                                                     The customer reported that the avea ventilator has malfunctioning display monitor. The customer confirmed that there is no patient involvement associated with this reported event.   \n",
      "5379                                     The customer reported to vyaire medical that the avea ventilator has low map (mean airway pressure) and cannot bring it up. At this time, there is no information regarding patient involvement associated with the reported event.   \n",
      "5380                                                                    The customer reported to vyaire medical that the user interface module (uim) of avea ventilator malfunctioned. The reporter confirmed that there is no patient involvement associated on this event.   \n",
      "5381                                                     The customer reported when they started to put the avea ventilator on the patient it seemed to stop flowing gas. The customer confirmed that there was no patient harm reported associated with the reported event.   \n",
      "5382  The customer reported that the failure alarm, patient circuit warning,and i-hold malfunction occurred on the revel ventilator. The issue occurred during patient-use. At this time, there is no information regarding patient harm associated with the reported event.   \n",
      "\n",
      "                                                                                                                                                                                                                                                                                                                                                                                                                                                                                                                Narrative  \n",
      "0                                                                                                                                                                    The device was returned to resmed and an evaluation confirmed the complaint. The non-return valve (nrv) assembly was replaced to address this issue. The device was serviced and fully tested before it was returned to the customer. Resmeds risk analysis for this failure mode concludes that the risk is acceptable. Resmed reference #: (b)(4).  \n",
      "1                                                                                                                                                                                        The device was returned to resmed and an evaluation confirmed the complaint. The non-return valve (nrv) assembly was replaced to address this issue. The device was serviced and fully tested before it was returned to the customer. Resmeds risk analysis for this failure mode concludes that the risk is acceptable. (b)(4).  \n",
      "2                                                                                                                                                              The device was returned to resmed and an evaluation confirmed the complaint. The non-return valve (nrv) assembly and sensor circuit board were replaced to address this issue. The device was serviced and fully tested before it was returned to the customer. Resmeds risk analysis for this failure mode concludes that the risk is acceptable. (b)(4).  \n",
      "3                                                                                                                                                              The device was returned to resmed and an evaluation confirmed the complaint. The non-return valve (nrv) assembly and sensor circuit board were replaced to address this issue. The device was serviced and fully tested before it was returned to the customer. Resmeds risk analysis for this failure mode concludes that the risk is acceptable. (b)(4).  \n",
      "4                                                                                                                                                               The device was returned to resmed and an evaluation confirmed the complaint. The internal battery and pneumatic block was replaced to address this issue. The device was serviced and fully tested before it was returned to the customer. Resmeds risk analysis for this failure mode concludes that the risk is acceptable. Resmed reference #: (b)(4).  \n",
      "...                                                                                                                                                                                                                                                                                                                                                                                                                                                                                                                   ...  \n",
      "5378                                                                                                                                                                                                                                            (b)(4). At this time, the suspect device has not been returned for evaluation. Therefore, root cause has not been determined yet. Vyaire medical will submit a supplemental report in accordance with 21 cfr section 803. 56 if additional information becomes available.  \n",
      "5379                                                                                                                                                                                                                                            (b)(4). At this time, the suspect device has not been returned for evaluation. Therefore, root cause has not been determined yet. Vyaire medical will submit a supplemental report in accordance with 21 cfr section 803. 56 if additional information becomes available.  \n",
      "5380                                                                                                                                                                                                                                            (b)(4). At this time, the suspect device has not been returned for evaluation. Therefore, root cause has not been determined yet. Vyaire medical will submit a supplemental report in accordance with 21 cfr section 803. 56 if additional information becomes available.  \n",
      "5381  Technical support explained to the customer that possibly circuit was not hooked up completely or the respiratory therapist was new and was not sure of the ventilator settings. Technical support asked the customer to go thru the extended self test and it passed. At this time, vyaire medical has not received the suspect device/component for evaluation. Therefore no root cause can be established vyaire medical will submit a supplemental report in accordance with 21 cfr section 803. 56 if addit...  \n",
      "5382                                                                                                                                                                                                             Vyaire medical file identification: (b)(4). At this time, the suspect device has not been returned for evaluation. Therefore, root cause has not been determined yet. Vyaire medical will submit a supplemental report in accordance with 21 cfr section 803. 56 if additional information was received.  \n",
      "\n",
      "[5383 rows x 3 columns]\n"
     ]
    }
   ],
   "source": [
    "Calibration_df=df.where(df['Device_Problems'] == 'Calibration_Problems').dropna()\n",
    "Software_df=df.where(df['Device_Problems'] == 'Software_Problems').dropna()\n",
    "Circuit_df=df.where(df['Device_Problems'] == 'Circuit_failure').dropna()\n",
    "Power_df=df.where(df['Device_Problems'] == 'Power_Problems').dropna()\n",
    "Mechanical_df=df.where(df['Device_Problems'] == 'Mechanical_Problems').dropna()\n",
    "\n",
    "frames = [Calibration_df,Software_df,Circuit_df,Power_df,Mechanical_df]\n",
    "\n",
    "result = pd.concat(frames, ignore_index=True,sort=False)\n",
    "print(pd.DataFrame(result))"
   ]
  },
  {
   "cell_type": "code",
   "execution_count": 18,
   "metadata": {},
   "outputs": [
    {
     "data": {
      "text/html": [
       "<div>\n",
       "<style scoped>\n",
       "    .dataframe tbody tr th:only-of-type {\n",
       "        vertical-align: middle;\n",
       "    }\n",
       "\n",
       "    .dataframe tbody tr th {\n",
       "        vertical-align: top;\n",
       "    }\n",
       "\n",
       "    .dataframe thead th {\n",
       "        text-align: right;\n",
       "    }\n",
       "</style>\n",
       "<table border=\"1\" class=\"dataframe\">\n",
       "  <thead>\n",
       "    <tr style=\"text-align: right;\">\n",
       "      <th></th>\n",
       "      <th>Device_Problems</th>\n",
       "      <th>Event_description</th>\n",
       "      <th>Narrative</th>\n",
       "    </tr>\n",
       "  </thead>\n",
       "  <tbody>\n",
       "    <tr>\n",
       "      <th>0</th>\n",
       "      <td>Calibration_Problems</td>\n",
       "      <td>It was reported to resmed that an astral device failed to complete its internal self-test. There was no patient harm or serious injury reported as a result of this incident.</td>\n",
       "      <td>The device was returned to resmed and an evaluation confirmed the complaint. The non-return valve (nrv) assembly was replaced to address this issue. The device was serviced and fully tested before it was returned to the customer. Resmeds risk analysis for this failure mode concludes that the risk is acceptable. Resmed reference #: (b)(4).</td>\n",
       "    </tr>\n",
       "    <tr>\n",
       "      <th>1</th>\n",
       "      <td>Calibration_Problems</td>\n",
       "      <td>It was reported to resmed that an astral device failed to complete its internal self-test. There was no patient harm or serious injury reported as a result of this incident.</td>\n",
       "      <td>The device was returned to resmed and an evaluation confirmed the complaint. The non-return valve (nrv) assembly was replaced to address this issue. The device was serviced and fully tested before it was returned to the customer. Resmeds risk analysis for this failure mode concludes that the risk is acceptable. (b)(4).</td>\n",
       "    </tr>\n",
       "    <tr>\n",
       "      <th>2</th>\n",
       "      <td>Calibration_Problems</td>\n",
       "      <td>It was reported to resmed that an astral device failed to complete its internal self-test. There was no patient harm or serious injury reported as a result of this incident.</td>\n",
       "      <td>The device was returned to resmed and an evaluation confirmed the complaint. The non-return valve (nrv) assembly and sensor circuit board were replaced to address this issue. The device was serviced and fully tested before it was returned to the customer. Resmeds risk analysis for this failure mode concludes that the risk is acceptable. (b)(4).</td>\n",
       "    </tr>\n",
       "    <tr>\n",
       "      <th>3</th>\n",
       "      <td>Calibration_Problems</td>\n",
       "      <td>It was reported to resmed that an astral device failed to complete its internal self-test. There was no patient harm or serious injury reported as a result of this incident.</td>\n",
       "      <td>The device was returned to resmed and an evaluation confirmed the complaint. The non-return valve (nrv) assembly and sensor circuit board were replaced to address this issue. The device was serviced and fully tested before it was returned to the customer. Resmeds risk analysis for this failure mode concludes that the risk is acceptable. (b)(4).</td>\n",
       "    </tr>\n",
       "    <tr>\n",
       "      <th>4</th>\n",
       "      <td>Calibration_Problems</td>\n",
       "      <td>It was reported to resmed that an astral device displayed an internal battery error message and failed to complete its internal self test. There was no patient harm or serious injury reported as a result of this incident.</td>\n",
       "      <td>The device was returned to resmed and an evaluation confirmed the complaint. The internal battery and pneumatic block was replaced to address this issue. The device was serviced and fully tested before it was returned to the customer. Resmeds risk analysis for this failure mode concludes that the risk is acceptable. Resmed reference #: (b)(4).</td>\n",
       "    </tr>\n",
       "  </tbody>\n",
       "</table>\n",
       "</div>"
      ],
      "text/plain": [
       "        Device_Problems  \\\n",
       "0  Calibration_Problems   \n",
       "1  Calibration_Problems   \n",
       "2  Calibration_Problems   \n",
       "3  Calibration_Problems   \n",
       "4  Calibration_Problems   \n",
       "\n",
       "                                                                                                                                                                                                               Event_description  \\\n",
       "0                                                  It was reported to resmed that an astral device failed to complete its internal self-test. There was no patient harm or serious injury reported as a result of this incident.   \n",
       "1                                                  It was reported to resmed that an astral device failed to complete its internal self-test. There was no patient harm or serious injury reported as a result of this incident.   \n",
       "2                                                  It was reported to resmed that an astral device failed to complete its internal self-test. There was no patient harm or serious injury reported as a result of this incident.   \n",
       "3                                                  It was reported to resmed that an astral device failed to complete its internal self-test. There was no patient harm or serious injury reported as a result of this incident.   \n",
       "4  It was reported to resmed that an astral device displayed an internal battery error message and failed to complete its internal self test. There was no patient harm or serious injury reported as a result of this incident.   \n",
       "\n",
       "                                                                                                                                                                                                                                                                                                                                                    Narrative  \n",
       "0        The device was returned to resmed and an evaluation confirmed the complaint. The non-return valve (nrv) assembly was replaced to address this issue. The device was serviced and fully tested before it was returned to the customer. Resmeds risk analysis for this failure mode concludes that the risk is acceptable. Resmed reference #: (b)(4).  \n",
       "1                            The device was returned to resmed and an evaluation confirmed the complaint. The non-return valve (nrv) assembly was replaced to address this issue. The device was serviced and fully tested before it was returned to the customer. Resmeds risk analysis for this failure mode concludes that the risk is acceptable. (b)(4).  \n",
       "2  The device was returned to resmed and an evaluation confirmed the complaint. The non-return valve (nrv) assembly and sensor circuit board were replaced to address this issue. The device was serviced and fully tested before it was returned to the customer. Resmeds risk analysis for this failure mode concludes that the risk is acceptable. (b)(4).  \n",
       "3  The device was returned to resmed and an evaluation confirmed the complaint. The non-return valve (nrv) assembly and sensor circuit board were replaced to address this issue. The device was serviced and fully tested before it was returned to the customer. Resmeds risk analysis for this failure mode concludes that the risk is acceptable. (b)(4).  \n",
       "4   The device was returned to resmed and an evaluation confirmed the complaint. The internal battery and pneumatic block was replaced to address this issue. The device was serviced and fully tested before it was returned to the customer. Resmeds risk analysis for this failure mode concludes that the risk is acceptable. Resmed reference #: (b)(4).  "
      ]
     },
     "execution_count": 18,
     "metadata": {},
     "output_type": "execute_result"
    }
   ],
   "source": [
    "pd.DataFrame(result).head()"
   ]
  },
  {
   "cell_type": "code",
   "execution_count": 19,
   "metadata": {},
   "outputs": [
    {
     "data": {
      "text/plain": [
       "Mechanical_Problems     1937\n",
       "Circuit_failure         1566\n",
       "Calibration_Problems    1186\n",
       "Power_Problems           612\n",
       "Software_Problems         82\n",
       "Name: Device_Problems, dtype: int64"
      ]
     },
     "execution_count": 19,
     "metadata": {},
     "output_type": "execute_result"
    }
   ],
   "source": [
    "result.Device_Problems.value_counts()"
   ]
  },
  {
   "cell_type": "code",
   "execution_count": 20,
   "metadata": {},
   "outputs": [
    {
     "data": {
      "text/plain": [
       "5383"
      ]
     },
     "execution_count": 20,
     "metadata": {},
     "output_type": "execute_result"
    }
   ],
   "source": [
    "len(result)"
   ]
  },
  {
   "cell_type": "code",
   "execution_count": 21,
   "metadata": {},
   "outputs": [
    {
     "data": {
      "image/png": "[encoded data removed]",
      "text/plain": [
       "<Figure size 576x432 with 1 Axes>"
      ]
     },
     "metadata": {
      "needs_background": "light"
     },
     "output_type": "display_data"
    }
   ],
   "source": [
    "fig = plt.figure(figsize=(8,6))\n",
    "result.groupby('Device_Problems').Event_description.count().plot.bar(ylim=0)\n",
    "plt.show()"
   ]
  },
  {
   "cell_type": "code",
   "execution_count": 22,
   "metadata": {},
   "outputs": [
    {
     "name": "stdout",
     "output_type": "stream",
     "text": [
      "5383\n"
     ]
    },
    {
     "data": {
      "text/html": [
       "<div>\n",
       "<style scoped>\n",
       "    .dataframe tbody tr th:only-of-type {\n",
       "        vertical-align: middle;\n",
       "    }\n",
       "\n",
       "    .dataframe tbody tr th {\n",
       "        vertical-align: top;\n",
       "    }\n",
       "\n",
       "    .dataframe thead th {\n",
       "        text-align: right;\n",
       "    }\n",
       "</style>\n",
       "<table border=\"1\" class=\"dataframe\">\n",
       "  <thead>\n",
       "    <tr style=\"text-align: right;\">\n",
       "      <th></th>\n",
       "      <th>Device_Problems</th>\n",
       "      <th>Event_description</th>\n",
       "      <th>Narrative</th>\n",
       "      <th>Event_description_Narrative</th>\n",
       "    </tr>\n",
       "  </thead>\n",
       "  <tbody>\n",
       "    <tr>\n",
       "      <th>0</th>\n",
       "      <td>Calibration_Problems</td>\n",
       "      <td>It was reported to resmed that an astral device failed to complete its internal self-test. There was no patient harm or serious injury reported as a result of this incident.</td>\n",
       "      <td>The device was returned to resmed and an evaluation confirmed the complaint. The non-return valve (nrv) assembly was replaced to address this issue. The device was serviced and fully tested before it was returned to the customer. Resmeds risk analysis for this failure mode concludes that the risk is acceptable. Resmed reference #: (b)(4).</td>\n",
       "      <td>It was reported to resmed that an astral device failed to complete its internal self-test. There was no patient harm or serious injury reported as a result of this incident.The device was returned to resmed and an evaluation confirmed the complaint. The non-return valve (nrv) assembly was replaced to address this issue. The device was serviced and fully tested before it was returned to the customer. Resmeds risk analysis for this failure mode concludes that the risk is acceptable. Resmed ref...</td>\n",
       "    </tr>\n",
       "    <tr>\n",
       "      <th>1</th>\n",
       "      <td>Calibration_Problems</td>\n",
       "      <td>It was reported to resmed that an astral device failed to complete its internal self-test. There was no patient harm or serious injury reported as a result of this incident.</td>\n",
       "      <td>The device was returned to resmed and an evaluation confirmed the complaint. The non-return valve (nrv) assembly was replaced to address this issue. The device was serviced and fully tested before it was returned to the customer. Resmeds risk analysis for this failure mode concludes that the risk is acceptable. (b)(4).</td>\n",
       "      <td>It was reported to resmed that an astral device failed to complete its internal self-test. There was no patient harm or serious injury reported as a result of this incident.The device was returned to resmed and an evaluation confirmed the complaint. The non-return valve (nrv) assembly was replaced to address this issue. The device was serviced and fully tested before it was returned to the customer. Resmeds risk analysis for this failure mode concludes that the risk is acceptable. (b)(4).</td>\n",
       "    </tr>\n",
       "    <tr>\n",
       "      <th>2</th>\n",
       "      <td>Calibration_Problems</td>\n",
       "      <td>It was reported to resmed that an astral device failed to complete its internal self-test. There was no patient harm or serious injury reported as a result of this incident.</td>\n",
       "      <td>The device was returned to resmed and an evaluation confirmed the complaint. The non-return valve (nrv) assembly and sensor circuit board were replaced to address this issue. The device was serviced and fully tested before it was returned to the customer. Resmeds risk analysis for this failure mode concludes that the risk is acceptable. (b)(4).</td>\n",
       "      <td>It was reported to resmed that an astral device failed to complete its internal self-test. There was no patient harm or serious injury reported as a result of this incident.The device was returned to resmed and an evaluation confirmed the complaint. The non-return valve (nrv) assembly and sensor circuit board were replaced to address this issue. The device was serviced and fully tested before it was returned to the customer. Resmeds risk analysis for this failure mode concludes that the risk...</td>\n",
       "    </tr>\n",
       "    <tr>\n",
       "      <th>3</th>\n",
       "      <td>Calibration_Problems</td>\n",
       "      <td>It was reported to resmed that an astral device failed to complete its internal self-test. There was no patient harm or serious injury reported as a result of this incident.</td>\n",
       "      <td>The device was returned to resmed and an evaluation confirmed the complaint. The non-return valve (nrv) assembly and sensor circuit board were replaced to address this issue. The device was serviced and fully tested before it was returned to the customer. Resmeds risk analysis for this failure mode concludes that the risk is acceptable. (b)(4).</td>\n",
       "      <td>It was reported to resmed that an astral device failed to complete its internal self-test. There was no patient harm or serious injury reported as a result of this incident.The device was returned to resmed and an evaluation confirmed the complaint. The non-return valve (nrv) assembly and sensor circuit board were replaced to address this issue. The device was serviced and fully tested before it was returned to the customer. Resmeds risk analysis for this failure mode concludes that the risk...</td>\n",
       "    </tr>\n",
       "    <tr>\n",
       "      <th>4</th>\n",
       "      <td>Calibration_Problems</td>\n",
       "      <td>It was reported to resmed that an astral device displayed an internal battery error message and failed to complete its internal self test. There was no patient harm or serious injury reported as a result of this incident.</td>\n",
       "      <td>The device was returned to resmed and an evaluation confirmed the complaint. The internal battery and pneumatic block was replaced to address this issue. The device was serviced and fully tested before it was returned to the customer. Resmeds risk analysis for this failure mode concludes that the risk is acceptable. Resmed reference #: (b)(4).</td>\n",
       "      <td>It was reported to resmed that an astral device displayed an internal battery error message and failed to complete its internal self test. There was no patient harm or serious injury reported as a result of this incident.The device was returned to resmed and an evaluation confirmed the complaint. The internal battery and pneumatic block was replaced to address this issue. The device was serviced and fully tested before it was returned to the customer. Resmeds risk analysis for this failure m...</td>\n",
       "    </tr>\n",
       "  </tbody>\n",
       "</table>\n",
       "</div>"
      ],
      "text/plain": [
       "        Device_Problems  \\\n",
       "0  Calibration_Problems   \n",
       "1  Calibration_Problems   \n",
       "2  Calibration_Problems   \n",
       "3  Calibration_Problems   \n",
       "4  Calibration_Problems   \n",
       "\n",
       "                                                                                                                                                                                                               Event_description  \\\n",
       "0                                                  It was reported to resmed that an astral device failed to complete its internal self-test. There was no patient harm or serious injury reported as a result of this incident.   \n",
       "1                                                  It was reported to resmed that an astral device failed to complete its internal self-test. There was no patient harm or serious injury reported as a result of this incident.   \n",
       "2                                                  It was reported to resmed that an astral device failed to complete its internal self-test. There was no patient harm or serious injury reported as a result of this incident.   \n",
       "3                                                  It was reported to resmed that an astral device failed to complete its internal self-test. There was no patient harm or serious injury reported as a result of this incident.   \n",
       "4  It was reported to resmed that an astral device displayed an internal battery error message and failed to complete its internal self test. There was no patient harm or serious injury reported as a result of this incident.   \n",
       "\n",
       "                                                                                                                                                                                                                                                                                                                                                    Narrative  \\\n",
       "0        The device was returned to resmed and an evaluation confirmed the complaint. The non-return valve (nrv) assembly was replaced to address this issue. The device was serviced and fully tested before it was returned to the customer. Resmeds risk analysis for this failure mode concludes that the risk is acceptable. Resmed reference #: (b)(4).   \n",
       "1                            The device was returned to resmed and an evaluation confirmed the complaint. The non-return valve (nrv) assembly was replaced to address this issue. The device was serviced and fully tested before it was returned to the customer. Resmeds risk analysis for this failure mode concludes that the risk is acceptable. (b)(4).   \n",
       "2  The device was returned to resmed and an evaluation confirmed the complaint. The non-return valve (nrv) assembly and sensor circuit board were replaced to address this issue. The device was serviced and fully tested before it was returned to the customer. Resmeds risk analysis for this failure mode concludes that the risk is acceptable. (b)(4).   \n",
       "3  The device was returned to resmed and an evaluation confirmed the complaint. The non-return valve (nrv) assembly and sensor circuit board were replaced to address this issue. The device was serviced and fully tested before it was returned to the customer. Resmeds risk analysis for this failure mode concludes that the risk is acceptable. (b)(4).   \n",
       "4   The device was returned to resmed and an evaluation confirmed the complaint. The internal battery and pneumatic block was replaced to address this issue. The device was serviced and fully tested before it was returned to the customer. Resmeds risk analysis for this failure mode concludes that the risk is acceptable. Resmed reference #: (b)(4).   \n",
       "\n",
       "                                                                                                                                                                                                                                                                                                                                                                                                                                                                                           Event_description_Narrative  \n",
       "0  It was reported to resmed that an astral device failed to complete its internal self-test. There was no patient harm or serious injury reported as a result of this incident.The device was returned to resmed and an evaluation confirmed the complaint. The non-return valve (nrv) assembly was replaced to address this issue. The device was serviced and fully tested before it was returned to the customer. Resmeds risk analysis for this failure mode concludes that the risk is acceptable. Resmed ref...  \n",
       "1        It was reported to resmed that an astral device failed to complete its internal self-test. There was no patient harm or serious injury reported as a result of this incident.The device was returned to resmed and an evaluation confirmed the complaint. The non-return valve (nrv) assembly was replaced to address this issue. The device was serviced and fully tested before it was returned to the customer. Resmeds risk analysis for this failure mode concludes that the risk is acceptable. (b)(4).  \n",
       "2  It was reported to resmed that an astral device failed to complete its internal self-test. There was no patient harm or serious injury reported as a result of this incident.The device was returned to resmed and an evaluation confirmed the complaint. The non-return valve (nrv) assembly and sensor circuit board were replaced to address this issue. The device was serviced and fully tested before it was returned to the customer. Resmeds risk analysis for this failure mode concludes that the risk...  \n",
       "3  It was reported to resmed that an astral device failed to complete its internal self-test. There was no patient harm or serious injury reported as a result of this incident.The device was returned to resmed and an evaluation confirmed the complaint. The non-return valve (nrv) assembly and sensor circuit board were replaced to address this issue. The device was serviced and fully tested before it was returned to the customer. Resmeds risk analysis for this failure mode concludes that the risk...  \n",
       "4  It was reported to resmed that an astral device displayed an internal battery error message and failed to complete its internal self test. There was no patient harm or serious injury reported as a result of this incident.The device was returned to resmed and an evaluation confirmed the complaint. The internal battery and pneumatic block was replaced to address this issue. The device was serviced and fully tested before it was returned to the customer. Resmeds risk analysis for this failure m...  "
      ]
     },
     "execution_count": 22,
     "metadata": {},
     "output_type": "execute_result"
    }
   ],
   "source": [
    "result[\"Event_description_Narrative\"] = result[\"Event_description\"] + result[\"Narrative\"]\n",
    "print(len(pd.DataFrame(result)))\n",
    "result.head()"
   ]
  },
  {
   "cell_type": "code",
   "execution_count": 23,
   "metadata": {},
   "outputs": [],
   "source": [
    "result.to_csv('CBK2020transformed.csv')"
   ]
  },
  {
   "cell_type": "code",
   "execution_count": null,
   "metadata": {},
   "outputs": [],
   "source": []
  }
 ],
 "metadata": {
  "kernelspec": {
   "display_name": "Python 3",
   "language": "python",
   "name": "python3"
  },
  "language_info": {
   "codemirror_mode": {
    "name": "ipython",
    "version": 3
   },
   "file_extension": ".py",
   "mimetype": "text/x-python",
   "name": "python",
   "nbconvert_exporter": "python",
   "pygments_lexer": "ipython3",
   "version": "3.8.5"
  }
 },
 "nbformat": 4,
 "nbformat_minor": 4
}
